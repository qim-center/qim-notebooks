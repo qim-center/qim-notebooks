{
 "cells": [
  {
   "cell_type": "markdown",
   "id": "946df01b",
   "metadata": {},
   "source": [
    "# Intensity normalization and bit reduction"
   ]
  },
  {
   "cell_type": "markdown",
   "id": "0dfda28c",
   "metadata": {},
   "source": [
    "First, necessary libraries are imported and helper-functions are defined."
   ]
  },
  {
   "cell_type": "code",
   "execution_count": 1,
   "id": "d1038a85",
   "metadata": {},
   "outputs": [],
   "source": [
    "import qim3d\n",
    "import numpy as np\n",
    "import matplotlib.pyplot as plt\n",
    "import ipywidgets as widgets\n",
    "from IPython.display import display\n",
    "import gc\n",
    "\n",
    "def interactive_cutoff(volume: np.ndarray, cmap='gray', target_sample_size=1_000_000):\n",
    "    \"\"\"\n",
    "    Display an interactive viewer for a 3D volume with slice navigation and intensity-cutoffs.\n",
    "    Returns: (ui, range_slider) where range_slider.value has 'vmin' and 'vmax' that the user can read later.\n",
    "    \"\"\"\n",
    "    # Subsample the volume\n",
    "    stride = max(1, volume.size // target_sample_size)\n",
    "    sample = volume.ravel()[::stride]\n",
    "\n",
    "    def auto_window(method):\n",
    "        if method == 'Percentile (1/99)':\n",
    "            return np.percentile(sample, 1), np.percentile(sample, 99)\n",
    "        elif method == 'Mean±2·Std':\n",
    "            m, s = np.mean(sample), np.std(sample)\n",
    "            return m - 2*s, m + 2*s\n",
    "        else:\n",
    "            return range_slider.value\n",
    "\n",
    "    init_vmin, init_vmax = np.percentile(sample, 0), np.percentile(sample, 100)\n",
    "    sample_min = float(sample.min())\n",
    "    sample_max = float(sample.max())\n",
    "\n",
    "    # UI elements\n",
    "    slice_slider = widgets.IntSlider(\n",
    "        value=volume.shape[0] // 2,\n",
    "        min=0,\n",
    "        max=volume.shape[0] - 1,\n",
    "        description='Slice',\n",
    "        continuous_update=True,\n",
    "        layout=widgets.Layout(width='30%')\n",
    "    )\n",
    "    range_slider = widgets.FloatRangeSlider(\n",
    "        value=[init_vmin, init_vmax],\n",
    "        min=sample_min,\n",
    "        max=sample_max,\n",
    "        step=1,\n",
    "        description='Intensities',\n",
    "        continuous_update=True,\n",
    "        layout=widgets.Layout(width='50%')\n",
    "    )\n",
    "    auto_dropdown = widgets.Dropdown(\n",
    "        options=['Manual', 'Percentile (1/99)', 'Mean±2·Std'],\n",
    "        value='Manual',\n",
    "        description='Cut-off type',\n",
    "    )\n",
    "    log_checkbox = widgets.Checkbox(\n",
    "        value=True,\n",
    "        description='Log-scale on histogram',\n",
    "        indent=False,\n",
    "        layout=widgets.Layout(width='200px')\n",
    "    )\n",
    "    hist_output = widgets.Output()\n",
    "    img_output = widgets.Output()\n",
    "\n",
    "    def draw_histogram(_=None):\n",
    "        with hist_output:\n",
    "            hist_output.clear_output(wait=True)\n",
    "            vmin, vmax = range_slider.value\n",
    "            fig, ax = plt.subplots(figsize=(6, 4))\n",
    "            log_state = log_checkbox.value\n",
    "            ax.hist(sample, bins=64, color='orange', log=log_state)\n",
    "            ax.axvline(vmin, color='red', linestyle='--', label='vmin')\n",
    "            ax.axvline(vmax, color='blue', linestyle='--', label='vmax')\n",
    "            ax.set_title('Approximate histogram (log)' if log_state else 'Approximate histogram')\n",
    "            ax.set_xlabel('Intensity')\n",
    "            ax.set_ylabel('Count (log)' if log_state else 'Count')\n",
    "            plt.show()\n",
    "\n",
    "    def update_img(_=None):\n",
    "        idx = slice_slider.value\n",
    "        vmin, vmax = range_slider.value\n",
    "        slice_img = volume[idx]\n",
    "        with img_output:\n",
    "            img_output.clear_output(wait=True)\n",
    "            fig, ax = plt.subplots(figsize=(6, 4))\n",
    "            im = ax.imshow(\n",
    "                np.clip(slice_img, vmin, vmax),\n",
    "                cmap=cmap,\n",
    "                vmin=vmin,\n",
    "                vmax=vmax,\n",
    "                interpolation='nearest',\n",
    "            )\n",
    "            ax.set_title(f'Slice {idx}')\n",
    "            ax.axis('off')\n",
    "            plt.colorbar(im, ax=ax, fraction=0.046, pad=0.04)\n",
    "            plt.show()\n",
    "\n",
    "    def on_auto_dropdown_change(change):\n",
    "        if change['name'] == 'value':\n",
    "            new_vmin, new_vmax = auto_window(change['new'])\n",
    "            # Clamp to slider range\n",
    "            rng_min, rng_max = range_slider.min, range_slider.max\n",
    "            new_vmin = max(rng_min, new_vmin)\n",
    "            new_vmax = min(rng_max, new_vmax)\n",
    "            range_slider.value = (float(new_vmin), float(new_vmax))\n",
    "\n",
    "    def on_range_change(change):\n",
    "        if change['name'] == 'value':\n",
    "            update_img()       # update image for new window\n",
    "            draw_histogram()   # update histogram and lines\n",
    "\n",
    "    # Attach event listeners\n",
    "    slice_slider.observe(update_img, names='value')           # image only\n",
    "    range_slider.observe(on_range_change, names='value')      # state + image + hist\n",
    "    auto_dropdown.observe(on_auto_dropdown_change, names='value')\n",
    "    log_checkbox.observe(draw_histogram, names='value')       # histogram only\n",
    "\n",
    "    # Initial draw\n",
    "    draw_histogram()\n",
    "    update_img()\n",
    "\n",
    "    ui = widgets.VBox([\n",
    "        widgets.HBox([auto_dropdown, slice_slider, range_slider]),\n",
    "        log_checkbox,\n",
    "        widgets.HBox([hist_output, img_output])\n",
    "    ])\n",
    "\n",
    "    return ui, range_slider\n",
    "\n",
    "def dtype_selector(volume: np.ndarray):\n",
    "    \"\"\"\n",
    "    Show an interactive dtype selector for a numpy array, displaying resulting sizes.\n",
    "    Returns the dropdown so you can access dtype_dropdown.value for conversion.\n",
    "    \"\"\"\n",
    "    import numpy as np\n",
    "    import ipywidgets as widgets\n",
    "    from IPython.display import display, HTML\n",
    "\n",
    "    def format_size(nbytes):\n",
    "        for unit in ['B', 'KB', 'MB', 'GB', 'TB']:\n",
    "            if nbytes < 10**3:\n",
    "                return f\"{nbytes:.2f} {unit}\"\n",
    "            nbytes /= 10**3\n",
    "        return f\"{nbytes:.2f} PB\"\n",
    "\n",
    "    def dtype_name_to_nbytes(dtype_name):\n",
    "        return np.dtype(dtype_name).itemsize\n",
    "\n",
    "    dtype_names = ['uint8', 'int8', 'uint16', 'int16', 'float16', 'float32', 'float64']\n",
    "    current_size = volume.nbytes\n",
    "    shape = volume.shape\n",
    "    n_elements = volume.size\n",
    "\n",
    "    options = []\n",
    "    for dtype in dtype_names:\n",
    "        nbytes = n_elements * dtype_name_to_nbytes(dtype)\n",
    "        options.append((f\"{dtype} ({format_size(nbytes)})\", dtype))\n",
    "\n",
    "    current_label = widgets.HTML(\n",
    "        value=f\"<b>Current dtype:</b> {volume.dtype.name} &nbsp;|&nbsp; <b>Shape:</b> {shape} &nbsp;|&nbsp; <b>Current size:</b> {format_size(current_size)}\"\n",
    "    )\n",
    "    dtype_dropdown = widgets.Dropdown(\n",
    "        options=options,\n",
    "        value=volume.dtype.name,\n",
    "        description='Convert to:',\n",
    "        style={'description_width': 'initial'}\n",
    "    )\n",
    "    out = widgets.Output()\n",
    "\n",
    "    def on_change(change):\n",
    "        with out:\n",
    "            out.clear_output()\n",
    "            result_nbytes = n_elements * dtype_name_to_nbytes(selected_dtype)\n",
    "            display(HTML(f\"If converted to <b>{selected_dtype}</b>: {format_size(result_nbytes)}\"))\n",
    "\n",
    "    dtype_dropdown.observe(on_change, names='value')\n",
    "\n",
    "    display(current_label, dtype_dropdown, out)\n",
    "\n",
    "    # Show initial value correctly:\n",
    "    with out:\n",
    "        selected_dtype = dtype_dropdown.value\n",
    "        result_nbytes = n_elements * dtype_name_to_nbytes(selected_dtype)\n",
    "        display(HTML(f\"If converted to <b>{selected_dtype}</b>: {format_size(result_nbytes)}\"))\n",
    "\n",
    "    # Return a UI handle (matching what's displayed) + live state\n",
    "    ui = widgets.VBox([current_label, dtype_dropdown, out])\n",
    "    return ui, dtype_dropdown\n",
    "\n",
    "def normalize_and_convert_volume(vol_converted: np.ndarray, chosen_type: str) -> np.ndarray:\n",
    "    \"\"\"\n",
    "    Normalize `vol_converted` and cast to `chosen_type`.\n",
    "    \"\"\"\n",
    "    \n",
    "    dtype = np.dtype(chosen_type)\n",
    "\n",
    "    # Work in float for the normalization\n",
    "    v = np.asarray(vol_converted, dtype=np.float32)\n",
    "\n",
    "    vmin = np.nanmin(v)\n",
    "    vmax = np.nanmax(v)\n",
    "    span = float(vmax - vmin)\n",
    "\n",
    "\n",
    "    # Handle constant volume case\n",
    "    if not np.isfinite(span) or span == 0.0:\n",
    "        # If float\n",
    "        if dtype.kind in ('f',):\n",
    "            out = np.zeros_like(v, dtype=dtype)\n",
    "            print('Volume intensities are now in range [0, 1]')\n",
    "            return out\n",
    "        # If integer\n",
    "        elif dtype.kind in ('i', 'u'):\n",
    "            info = np.iinfo(dtype)\n",
    "            out = np.zeros_like(v, dtype=dtype)  # choose 0 in all integer ranges\n",
    "            print(f'Volume intensities are now in range [{info.min}, {info.max}]')\n",
    "            return out\n",
    "        else:\n",
    "            raise ValueError(\"Invalid chosen_type\")\n",
    "\n",
    "    # Normalize in-place to [0,1] (would be: v = (v - vmin) / span)\n",
    "    np.subtract(v, vmin, out=v)\n",
    "    np.divide(v, span, out=v)\n",
    "\n",
    "    # If float\n",
    "    if dtype.kind in ('f',):\n",
    "        out = v.astype(dtype, copy=False)\n",
    "        print('Volume intensities are now in range [0, 1]')\n",
    "        return out\n",
    "\n",
    "    # If integer\n",
    "    elif dtype.kind in ('i', 'u'):\n",
    "        # Map [0,1] to [info.min, info.max] in-place\n",
    "        info = np.iinfo(dtype)\n",
    "        rng = float(info.max - info.min)\n",
    "\n",
    "        # v = v * rng + info.min\n",
    "        np.multiply(v, rng, out=v)\n",
    "        np.add(v, float(info.min), out=v)\n",
    "\n",
    "        # Round to nearest int and clip\n",
    "        np.rint(v, out=v)\n",
    "\n",
    "        # Replace NaNs with 0.0 before casting (cannot cast NaN to int)\n",
    "        np.nan_to_num(v, copy=False, nan=0.0, posinf=float(info.max), neginf=float(info.min))\n",
    "        np.clip(v, float(info.min), float(info.max), out=v)\n",
    "\n",
    "        # Final cast\n",
    "        out = v.astype(dtype)\n",
    "        print(f'Volume intensities are now in range [{info.min}, {info.max}]')\n",
    "        return out\n",
    "\n",
    "    else:\n",
    "        raise ValueError(\"Invalid chosen_type\")"
   ]
  },
  {
   "cell_type": "markdown",
   "id": "caf3dc7c",
   "metadata": {},
   "source": [
    "The volumetric data is now loaded in."
   ]
  },
  {
   "cell_type": "code",
   "execution_count": 2,
   "id": "e93b3859",
   "metadata": {},
   "outputs": [
    {
     "name": "stderr",
     "output_type": "stream",
     "text": [
      "Downloading \u001b[1mEscargot.tif\u001b[0m\n",
      "https://archive.compute.dtu.dk/download/public/projects/viscomp_data_repository/Snail/Escargot.tif\n",
      "2.61GB [02:10, 21.5MB/s]                                                        \n",
      "\n",
      "Loading Escargot.tif\n",
      "Using virtual stack\n"
     ]
    },
    {
     "name": "stdout",
     "output_type": "stream",
     "text": [
      "--------------------\n",
      "The volume currently takes up 2.8 GB of disk space\n"
     ]
    }
   ],
   "source": [
    "downloader = qim3d.io.Downloader()\n",
    "vol = downloader.Snail.Escargot(load_file=True)\n",
    "\n",
    "# The below is not normally needed if loading in your volume using qim3d.io.load() !\n",
    "\n",
    "# Convert to a normal ndarray in native byte order (safe for plotting & processing)\n",
    "if vol.dtype.byteorder not in ('=', '|'):                   # not native-endian\n",
    "    vol = vol.byteswap().view(vol.dtype.newbyteorder())     # makes little-endian\n",
    "vol = np.ascontiguousarray(vol) \n",
    "\n",
    "orig_diskspace = vol.size * vol.itemsize / 10**9\n",
    "print(20 * \"-\")\n",
    "print(f\"The volume currently takes up {orig_diskspace} GB of disk space\")"
   ]
  },
  {
   "cell_type": "markdown",
   "id": "1d7af738",
   "metadata": {},
   "source": [
    "## Voxel intensity cut-off\n",
    "\n",
    "We wish to gain insights into the voxel intensity distribution of the volume. To do this, an approximate histogram is created. The range of voxel intensities can be changed interactively to remove unnecessary values so that only intensities that are relevant for the analysis retain."
   ]
  },
  {
   "cell_type": "code",
   "execution_count": 3,
   "id": "c45d00c1",
   "metadata": {},
   "outputs": [
    {
     "data": {
      "application/vnd.jupyter.widget-view+json": {
       "model_id": "9aa78e07bc86485787c7057211a30105",
       "version_major": 2,
       "version_minor": 0
      },
      "text/plain": [
       "VBox(children=(HBox(children=(Dropdown(description='Cut-off type', options=('Manual', 'Percentile (1/99)', 'Me…"
      ]
     },
     "metadata": {},
     "output_type": "display_data"
    }
   ],
   "source": [
    "ui, slider = interactive_cutoff(vol)\n",
    "display(ui)"
   ]
  },
  {
   "cell_type": "markdown",
   "id": "b82936ca",
   "metadata": {},
   "source": [
    "Now the cut-off values can be applied to the volume."
   ]
  },
  {
   "cell_type": "code",
   "execution_count": 4,
   "id": "191ec25d",
   "metadata": {},
   "outputs": [],
   "source": [
    "vmin, vmax = slider.value\n",
    "vol_clipped = np.clip(vol, vmin, vmax)"
   ]
  },
  {
   "cell_type": "markdown",
   "id": "af210d3a",
   "metadata": {},
   "source": [
    "## Selecting appropriate bit depth\n",
    "\n",
    "Volumetric data from micro-CT-scanners and synchrotrons are often saved with unnecessarily high number precision, making it take up unnecessary amounts of disk space.\n",
    "\n",
    "Below you can change to other bit depths and see the new amount of disk space it will take up."
   ]
  },
  {
   "cell_type": "code",
   "execution_count": 5,
   "id": "adcf8c22",
   "metadata": {},
   "outputs": [
    {
     "data": {
      "application/vnd.jupyter.widget-view+json": {
       "model_id": "f7202c90d9eb46128380309a4a550725",
       "version_major": 2,
       "version_minor": 0
      },
      "text/plain": [
       "HTML(value='<b>Current dtype:</b> float32 &nbsp;|&nbsp; <b>Shape:</b> (700, 1000, 1000) &nbsp;|&nbsp; <b>Curre…"
      ]
     },
     "metadata": {},
     "output_type": "display_data"
    },
    {
     "data": {
      "application/vnd.jupyter.widget-view+json": {
       "model_id": "988715d780c547bba943df7322245a64",
       "version_major": 2,
       "version_minor": 0
      },
      "text/plain": [
       "Dropdown(description='Convert to:', index=5, options=(('uint8 (700.00 MB)', 'uint8'), ('int8 (700.00 MB)', 'in…"
      ]
     },
     "metadata": {},
     "output_type": "display_data"
    },
    {
     "data": {
      "application/vnd.jupyter.widget-view+json": {
       "model_id": "55ff0ebadb7749d1aa155846d89c060b",
       "version_major": 2,
       "version_minor": 0
      },
      "text/plain": [
       "Output()"
      ]
     },
     "metadata": {},
     "output_type": "display_data"
    }
   ],
   "source": [
    "ui, dropdown = dtype_selector(vol)"
   ]
  },
  {
   "cell_type": "markdown",
   "id": "f68595d0",
   "metadata": {},
   "source": [
    "Voxel intensities from micro-CT-scanners and synchrotrons often come in arbitrary ranges. The range will now be fixed to the range corresponding to the chosen bit depth."
   ]
  },
  {
   "cell_type": "code",
   "execution_count": 6,
   "id": "1a7a7f48",
   "metadata": {},
   "outputs": [
    {
     "name": "stdout",
     "output_type": "stream",
     "text": [
      "Volume intensities are now in range [-128, 127]\n",
      "Volume now takes up 0.7 GB of disk space - 25.0% of the original\n"
     ]
    }
   ],
   "source": [
    "chosen_type = dropdown.value\n",
    "\n",
    "# Convert volume\n",
    "vol_normalized = normalize_and_convert_volume(vol_clipped, chosen_type)\n",
    "new_diskspace = vol_normalized.size * vol_normalized.itemsize / 10**9\n",
    "\n",
    "# Free memory\n",
    "del vol_clipped\n",
    "gc.collect()\n",
    "\n",
    "print(f\"Volume now takes up {new_diskspace} GB of disk space - {(new_diskspace/orig_diskspace) * 100}% of the original\")"
   ]
  },
  {
   "cell_type": "markdown",
   "id": "b26f2007",
   "metadata": {},
   "source": [
    "## Visual checks\n",
    "\n",
    "Below the new volume and original volume can be inspected next to eachother."
   ]
  },
  {
   "cell_type": "code",
   "execution_count": 7,
   "id": "b49c47ba",
   "metadata": {},
   "outputs": [
    {
     "data": {
      "application/vnd.jupyter.widget-view+json": {
       "model_id": "0527f51782594546aae6bfd2646a7add",
       "version_major": 2,
       "version_minor": 0
      },
      "text/plain": [
       "HBox(children=(VBox(children=(Label(value='New volume', layout=Layout(align_self='center')), interactive(child…"
      ]
     },
     "metadata": {},
     "output_type": "display_data"
    }
   ],
   "source": [
    "ui_new  = qim3d.viz.slicer(vol_normalized, color_map='gray')\n",
    "ui_orig = qim3d.viz.slicer(vol,           color_map='gray')\n",
    "\n",
    "label_new  = widgets.Label(\"New volume\",     layout=widgets.Layout(align_self='center'))\n",
    "label_orig = widgets.Label(\"Original volume\", layout=widgets.Layout(align_self='center'))\n",
    "\n",
    "col1 = widgets.VBox([label_new, ui_new])\n",
    "col2 = widgets.VBox([label_orig, ui_orig])\n",
    "\n",
    "display(widgets.HBox([col1, col2]))"
   ]
  },
  {
   "cell_type": "markdown",
   "id": "626f4e24",
   "metadata": {},
   "source": [
    "## Exporting volume\n",
    "\n",
    "The new volume can now be exported. The file format and spot for saving is chosen by the path which you can change below."
   ]
  },
  {
   "cell_type": "code",
   "execution_count": 8,
   "id": "ba8891dd",
   "metadata": {},
   "outputs": [],
   "source": [
    "path = './vol_normalized.tif'\n",
    "\n",
    "qim3d.io.save(path, vol_normalized)"
   ]
  }
 ],
 "metadata": {
  "kernelspec": {
   "display_name": "dev",
   "language": "python",
   "name": "python3"
  },
  "language_info": {
   "codemirror_mode": {
    "name": "ipython",
    "version": 3
   },
   "file_extension": ".py",
   "mimetype": "text/x-python",
   "name": "python",
   "nbconvert_exporter": "python",
   "pygments_lexer": "ipython3",
   "version": "3.11.13"
  }
 },
 "nbformat": 4,
 "nbformat_minor": 5
}
