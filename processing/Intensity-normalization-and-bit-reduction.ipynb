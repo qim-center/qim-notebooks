{
 "cells": [
  {
   "cell_type": "markdown",
   "id": "946df01b",
   "metadata": {},
   "source": [
    "# Intensity normalization and bit reduction"
   ]
  },
  {
   "cell_type": "markdown",
   "id": "0dfda28c",
   "metadata": {},
   "source": [
    "First, necessary libraries are imported."
   ]
  },
  {
   "cell_type": "code",
   "execution_count": 1,
   "id": "d1038a85",
   "metadata": {},
   "outputs": [],
   "source": [
    "import qim3d\n",
    "import numpy as np\n",
    "import matplotlib.pyplot as plt\n",
    "import ipywidgets as widgets\n",
    "from IPython.display import display\n",
    "import gc"
   ]
  },
  {
   "cell_type": "markdown",
   "id": "caf3dc7c",
   "metadata": {},
   "source": [
    "The volumetric data is loaded in."
   ]
  },
  {
   "cell_type": "code",
   "execution_count": 2,
   "id": "e93b3859",
   "metadata": {},
   "outputs": [
    {
     "name": "stderr",
     "output_type": "stream",
     "text": [
      "Downloading \u001b[1mEscargot.tif\u001b[0m\n",
      "https://archive.compute.dtu.dk/download/public/projects/viscomp_data_repository/Snail/Escargot.tif\n",
      "2.61GB [02:04, 22.6MB/s]                                                        \n",
      "\n",
      "Loading Escargot.tif\n",
      "Using virtual stack\n"
     ]
    }
   ],
   "source": [
    "downloader = qim3d.io.Downloader()\n",
    "vol = downloader.Snail.Escargot(load_file=True)\n",
    "\n",
    "# The below is not normally needed if loading in your volume using qim3d.io.load() !\n",
    "\n",
    "# Convert to a normal ndarray in native byte order (safe for plotting & processing)\n",
    "if vol.dtype.byteorder not in ('=', '|'):   # not native-endian\n",
    "    vol = vol.byteswap().newbyteorder()     # makes little-endian\n",
    "vol = np.ascontiguousarray(vol) "
   ]
  },
  {
   "cell_type": "code",
   "execution_count": 3,
   "id": "1ed94a22",
   "metadata": {},
   "outputs": [
    {
     "name": "stdout",
     "output_type": "stream",
     "text": [
      "The volume currently takes up 2.8 GB of disk space\n"
     ]
    }
   ],
   "source": [
    "orig_diskspace = vol.size * vol.itemsize / 10**9\n",
    "\n",
    "print(f\"The volume currently takes up {orig_diskspace} GB of disk space\")"
   ]
  },
  {
   "cell_type": "markdown",
   "id": "1d7af738",
   "metadata": {},
   "source": [
    "## Voxel intensity cut-off\n",
    "\n",
    "We wish to gain insights into the voxel intensity distribution of the volume. To do this, an approximate histogram is created. This is done by using a strided subsampling of 1.000.000 voxels."
   ]
  },
  {
   "cell_type": "code",
   "execution_count": 4,
   "id": "e5ab53da",
   "metadata": {},
   "outputs": [
    {
     "data": {
      "image/png": "[encoded data removed]",
      "text/plain": [
       "<Figure size 800x450 with 1 Axes>"
      ]
     },
     "metadata": {},
     "output_type": "display_data"
    },
    {
     "data": {
      "text/plain": [
       "<Axes: title={'center': 'Intensity histogram for volume (1000000,) (zero-values ignored)'}, xlabel='Voxel Intensity', ylabel='Frequency'>"
      ]
     },
     "execution_count": 4,
     "metadata": {},
     "output_type": "execute_result"
    }
   ],
   "source": [
    "target_sample_size = 1_000_000 # Can be changed\n",
    "\n",
    "stride = max(1, vol.size // target_sample_size)\n",
    "sample = vol.ravel()[::stride]\n",
    "\n",
    "qim3d.viz.histogram(sample, bins=100)"
   ]
  },
  {
   "cell_type": "markdown",
   "id": "6a96d4f3",
   "metadata": {},
   "source": [
    "<img src=\"./screenshots/guide_histogram.png\" alt=\"Escargot Histogram\" width=\"750\">"
   ]
  },
  {
   "cell_type": "markdown",
   "id": "88ff0651",
   "metadata": {},
   "source": [
    "The range of voxel intensities can now be changed interactively to remove unnecessary values so that only intensities that are relevant for the analysis retain."
   ]
  },
  {
   "cell_type": "code",
   "execution_count": 5,
   "id": "b464de8b",
   "metadata": {},
   "outputs": [],
   "source": [
    "def interactive_cutoff(volume: np.ndarray, cmap='gray', target_sample_size=1_000_000):\n",
    "    \"\"\"\n",
    "    Display an interactive viewer for a 3D volume with slice navigation and intensity-cutoffs.\n",
    "\n",
    "    Shows a fixed, subsampled histogram of the entire volume with draggable lines for intensity window cutoffs.\n",
    "    The user can scroll through slices and adjust the display window, with automatic windowing options.\n",
    "    \n",
    "    Args:\n",
    "        volume (np.ndarray): 3D array to visualize.\n",
    "        cmap (str): Matplotlib colormap for the image display.\n",
    "        target_sample_size (int): Number of voxels to sample for the histogram.\n",
    "\n",
    "    Returns:\n",
    "        ipywidgets.VBox: The interactive widget.\n",
    "    \"\"\"\n",
    "\n",
    "    # Subsample volume\n",
    "    stride = max(1, volume.size // target_sample_size)\n",
    "    sample = volume.ravel()[::stride]\n",
    "\n",
    "    def auto_window(method):\n",
    "        if method == 'Percentile (1/99)':\n",
    "            return np.percentile(sample, 1), np.percentile(sample, 99)\n",
    "        elif method == 'Mean±2·Std':\n",
    "            m, s = np.mean(sample), np.std(sample)\n",
    "            return m - 2*s, m + 2*s\n",
    "        else:\n",
    "            return range_slider.value\n",
    "\n",
    "    init_vmin, init_vmax = np.percentile(sample, 0), np.percentile(sample, 100)\n",
    "    sample_min = sample.min()\n",
    "    sample_max = sample.max()\n",
    "\n",
    "    # UI elements\n",
    "    slice_slider = widgets.IntSlider(\n",
    "        value=volume.shape[0] // 2,\n",
    "        min=0,\n",
    "        max=volume.shape[0] - 1,\n",
    "        description='Slice',\n",
    "        continuous_update=True,\n",
    "        layout=widgets.Layout(width='30%')\n",
    "    )\n",
    "    range_slider = widgets.FloatRangeSlider(\n",
    "        value=[init_vmin, init_vmax],\n",
    "        min=float(sample_min),\n",
    "        max=float(sample_max),\n",
    "        step=1,\n",
    "        description='Intensities',\n",
    "        continuous_update=True,\n",
    "        layout=widgets.Layout(width='50%')\n",
    "    )\n",
    "    auto_dropdown = widgets.Dropdown(\n",
    "        options=['Manual', 'Percentile (1/99)', 'Mean±2·Std'],\n",
    "        value='Manual',\n",
    "        description='Cut-off type',\n",
    "    )\n",
    "    log_checkbox = widgets.Checkbox(\n",
    "        value=True,\n",
    "        description='Log-scale on histogram',\n",
    "        indent=False,\n",
    "        layout=widgets.Layout(width='200px')\n",
    "    )\n",
    "    hist_output = widgets.Output()\n",
    "    img_output = widgets.Output()\n",
    "\n",
    "    def draw_histogram():\n",
    "        with hist_output:\n",
    "            hist_output.clear_output(wait=True)\n",
    "            vmin, vmax = range_slider.value\n",
    "            fig, ax = plt.subplots(figsize=(6, 4))\n",
    "            log_state = log_checkbox.value\n",
    "            ax.hist(sample, bins=64, color='orange', log=log_state)\n",
    "            ax.axvline(vmin, color='red', linestyle='--', label='vmin')\n",
    "            ax.axvline(vmax, color='blue', linestyle='--', label='vmax')\n",
    "            ax.set_title('Approximate histogram (log)' if log_state else 'Approximate histogram')\n",
    "            ax.set_xlabel('Intensity')\n",
    "            ax.set_ylabel('Count (log)' if log_state else 'Count')\n",
    "            plt.show()\n",
    "\n",
    "    def update_img(change=None):\n",
    "        idx = slice_slider.value\n",
    "        vmin, vmax = range_slider.value\n",
    "        slice_img = volume[idx]\n",
    "        with img_output:\n",
    "            img_output.clear_output(wait=True)\n",
    "            fig, ax = plt.subplots(figsize=(6, 4))\n",
    "            im = ax.imshow(\n",
    "                np.clip(slice_img, vmin, vmax),\n",
    "                cmap=cmap,\n",
    "                vmin=vmin,\n",
    "                vmax=vmax,\n",
    "                interpolation='nearest',\n",
    "            )\n",
    "            ax.set_title(f'Slice {idx}')\n",
    "            ax.axis('off')\n",
    "            plt.colorbar(im, ax=ax, fraction=0.046, pad=0.04)\n",
    "            plt.show()\n",
    "        draw_histogram()\n",
    "\n",
    "    def on_auto_dropdown_change(change):\n",
    "        if change['name'] == 'value':\n",
    "            new_vmin, new_vmax = auto_window(change['new'])\n",
    "            rng_min, rng_max = range_slider.min, range_slider.max\n",
    "            new_vmin, new_vmax = max(rng_min, new_vmin), min(rng_max, new_vmax)\n",
    "            range_slider.value = (new_vmin, new_vmax)\n",
    "\n",
    "    # Attach event listeners\n",
    "    slice_slider.observe(update_img, names='value')\n",
    "    range_slider.observe(update_img, names='value')\n",
    "    auto_dropdown.observe(on_auto_dropdown_change, names='value')\n",
    "    log_checkbox.observe(lambda change: draw_histogram(), names='value')\n",
    "\n",
    "    # Initial draw\n",
    "    update_img()\n",
    "\n",
    "    ui = widgets.VBox([\n",
    "        widgets.HBox([auto_dropdown, slice_slider, range_slider]),\n",
    "        log_checkbox,\n",
    "        widgets.HBox([hist_output, img_output])\n",
    "    ])\n",
    "\n",
    "\n",
    "    return ui"
   ]
  },
  {
   "cell_type": "code",
   "execution_count": 6,
   "id": "729fac63",
   "metadata": {},
   "outputs": [
    {
     "data": {
      "application/vnd.jupyter.widget-view+json": {
       "model_id": "0aa5eb370acc4c81b141cd1cf47e505a",
       "version_major": 2,
       "version_minor": 0
      },
      "text/plain": [
       "VBox(children=(HBox(children=(Dropdown(description='Cut-off type', options=('Manual', 'Percentile (1/99)', 'Me…"
      ]
     },
     "execution_count": 6,
     "metadata": {},
     "output_type": "execute_result"
    }
   ],
   "source": [
    "interactive_cutoff(vol)"
   ]
  },
  {
   "cell_type": "markdown",
   "id": "e7fe4141",
   "metadata": {},
   "source": [
    "<img src=\"./screenshots/guide_cutoff.png\" alt=\"Escargot Manual Cutoff\" width=\"800\">"
   ]
  },
  {
   "cell_type": "markdown",
   "id": "b82936ca",
   "metadata": {},
   "source": [
    "Now the cut-off values can be applied to the volume."
   ]
  },
  {
   "cell_type": "code",
   "execution_count": 7,
   "id": "191ec25d",
   "metadata": {},
   "outputs": [],
   "source": [
    "vmin = -6.5\n",
    "vmax = 155\n",
    "\n",
    "vol_clipped = np.clip(vol, vmin, vmax)"
   ]
  },
  {
   "cell_type": "markdown",
   "id": "af210d3a",
   "metadata": {},
   "source": [
    "## Selecting appropriate bit depth\n",
    "\n",
    "Volumetric data from micro-CT-scanners and synchrotrons are often saved with unnecessarily high number precision, making it take up unnecessary amounts of disk space.\n",
    "\n",
    "Below you can change to other bit depths and see the new amount of disk space it will take up."
   ]
  },
  {
   "cell_type": "code",
   "execution_count": 8,
   "id": "beefc5de",
   "metadata": {},
   "outputs": [],
   "source": [
    "def dtype_selector(volume):\n",
    "    \"\"\"\n",
    "    Show an interactive dtype selector for a numpy array, displaying resulting sizes.\n",
    "    Returns the dropdown so you can access dtype_dropdown.value for conversion.\n",
    "    \"\"\"\n",
    "    import numpy as np\n",
    "    import ipywidgets as widgets\n",
    "    from IPython.display import display, HTML\n",
    "\n",
    "    def format_size(nbytes):\n",
    "        for unit in ['B', 'KB', 'MB', 'GB', 'TB']:\n",
    "            if nbytes < 10**3:\n",
    "                return f\"{nbytes:.2f} {unit}\"\n",
    "            nbytes /= 10**3\n",
    "        return f\"{nbytes:.2f} PB\"\n",
    "\n",
    "    def dtype_name_to_nbytes(dtype_name):\n",
    "        return np.dtype(dtype_name).itemsize\n",
    "\n",
    "    dtype_names = ['uint8', 'int8', 'uint16', 'int16', 'float16', 'float32', 'float64']\n",
    "    current_size = volume.nbytes\n",
    "    shape = volume.shape\n",
    "    n_elements = volume.size\n",
    "\n",
    "    options = []\n",
    "    for dtype in dtype_names:\n",
    "        nbytes = n_elements * dtype_name_to_nbytes(dtype)\n",
    "        options.append((f\"{dtype} ({format_size(nbytes)})\", dtype))\n",
    "\n",
    "    current_label = widgets.HTML(\n",
    "        value=f\"<b>Current dtype:</b> {volume.dtype.name} &nbsp;|&nbsp; <b>Shape:</b> {shape} &nbsp;|&nbsp; <b>Current size:</b> {format_size(current_size)}\"\n",
    "    )\n",
    "    dtype_dropdown = widgets.Dropdown(\n",
    "        options=options,\n",
    "        value=volume.dtype.name,\n",
    "        description='Convert to:',\n",
    "        style={'description_width': 'initial'}\n",
    "    )\n",
    "    out = widgets.Output()\n",
    "\n",
    "    def on_change(change):\n",
    "        with out:\n",
    "            out.clear_output()\n",
    "            selected_dtype = change['new']\n",
    "            result_nbytes = n_elements * dtype_name_to_nbytes(selected_dtype)\n",
    "            display(HTML(f\"If converted to <b>{selected_dtype}</b>: {format_size(result_nbytes)}\"))\n",
    "\n",
    "    dtype_dropdown.observe(on_change, names='value')\n",
    "\n",
    "    display(current_label, dtype_dropdown, out)\n",
    "\n",
    "    # Show initial value correctly:\n",
    "    with out:\n",
    "        selected_dtype = dtype_dropdown.value\n",
    "        result_nbytes = n_elements * dtype_name_to_nbytes(selected_dtype)\n",
    "        display(HTML(f\"If converted to <b>{selected_dtype}</b>: {format_size(result_nbytes)}\"))"
   ]
  },
  {
   "cell_type": "code",
   "execution_count": 9,
   "id": "8187546b",
   "metadata": {},
   "outputs": [
    {
     "data": {
      "application/vnd.jupyter.widget-view+json": {
       "model_id": "494d418821d445c19511ea33513de518",
       "version_major": 2,
       "version_minor": 0
      },
      "text/plain": [
       "HTML(value='<b>Current dtype:</b> float32 &nbsp;|&nbsp; <b>Shape:</b> (700, 1000, 1000) &nbsp;|&nbsp; <b>Curre…"
      ]
     },
     "metadata": {},
     "output_type": "display_data"
    },
    {
     "data": {
      "application/vnd.jupyter.widget-view+json": {
       "model_id": "937a9f5d499743e18df9286ef322cb2a",
       "version_major": 2,
       "version_minor": 0
      },
      "text/plain": [
       "Dropdown(description='Convert to:', index=5, options=(('uint8 (700.00 MB)', 'uint8'), ('int8 (700.00 MB)', 'in…"
      ]
     },
     "metadata": {},
     "output_type": "display_data"
    },
    {
     "data": {
      "application/vnd.jupyter.widget-view+json": {
       "model_id": "680175833565444dbed4afaee456c360",
       "version_major": 2,
       "version_minor": 0
      },
      "text/plain": [
       "Output()"
      ]
     },
     "metadata": {},
     "output_type": "display_data"
    }
   ],
   "source": [
    "dtype_selector(vol_clipped)"
   ]
  },
  {
   "cell_type": "markdown",
   "id": "ef3745fd",
   "metadata": {},
   "source": [
    "<img src=\"./screenshots/guide_dtype_selector.png\" alt=\"Escargot Dtype Selector\" width=500>"
   ]
  },
  {
   "cell_type": "markdown",
   "id": "6d16b4ce",
   "metadata": {},
   "source": [
    "Enter the chosen datatype:"
   ]
  },
  {
   "cell_type": "code",
   "execution_count": 10,
   "id": "c7f65704",
   "metadata": {},
   "outputs": [],
   "source": [
    "chosen_type = 'float16'"
   ]
  },
  {
   "cell_type": "code",
   "execution_count": 11,
   "id": "55b60242",
   "metadata": {},
   "outputs": [
    {
     "name": "stdout",
     "output_type": "stream",
     "text": [
      "Volume now takes up 1.4 GB of disk space - 50.0% of the original\n"
     ]
    }
   ],
   "source": [
    "vol_converted = vol_clipped.astype(chosen_type)\n",
    "new_diskspace = vol_converted.size * vol_converted.itemsize / 10**9\n",
    "\n",
    "# Free up memory\n",
    "del vol_clipped\n",
    "gc.collect()\n",
    "\n",
    "print(f\"Volume now takes up {new_diskspace} GB of disk space - {(new_diskspace/orig_diskspace) * 100}% of the original\")"
   ]
  },
  {
   "cell_type": "markdown",
   "id": "a27ba937",
   "metadata": {},
   "source": [
    "## Updated intensity range\n",
    "\n",
    "Voxel intensities from micro-CT-scanners and synchrotrons often come in arbitrary ranges. Below the voxel intensities will be converted to either [0,1] or [0,255] based on whether a floating point or integer bit depth was chosen above."
   ]
  },
  {
   "cell_type": "code",
   "execution_count": 12,
   "id": "5fad3a18",
   "metadata": {},
   "outputs": [
    {
     "name": "stdout",
     "output_type": "stream",
     "text": [
      "Volume intensities are now in range [0, 1]\n"
     ]
    },
    {
     "data": {
      "text/plain": [
       "0"
      ]
     },
     "execution_count": 12,
     "metadata": {},
     "output_type": "execute_result"
    }
   ],
   "source": [
    "vol_converted_min = vol_converted.min()\n",
    "vol_converted_max = vol_converted.max()\n",
    "\n",
    "if 'int' in chosen_type:\n",
    "    # If int convert to [0, 255]\n",
    "    vol_normalized = (((vol_converted - vol_converted_min) / (vol_converted_max - vol_converted_min)) * 255).astype(chosen_type)\n",
    "    print('Volume intensities are now in range [0, 255]')\n",
    "\n",
    "elif 'float' in chosen_type:\n",
    "    # If float convert to [0, 1]\n",
    "    vol_normalized = ((vol_converted - vol_converted_min) / (vol_converted_max - vol_converted_min)).astype(chosen_type)\n",
    "    print('Volume intensities are now in range [0, 1]')\n",
    "\n",
    "else:\n",
    "    print(\"Invalid chosen_type\")\n",
    "\n",
    "# Free up memory\n",
    "del vol_converted\n",
    "gc.collect()"
   ]
  },
  {
   "cell_type": "markdown",
   "id": "b26f2007",
   "metadata": {},
   "source": [
    "## Visual checks\n",
    "\n",
    "Below the new volume and original volume can be inspected."
   ]
  },
  {
   "cell_type": "code",
   "execution_count": 13,
   "id": "f92a355c",
   "metadata": {},
   "outputs": [
    {
     "data": {
      "application/vnd.jupyter.widget-view+json": {
       "model_id": "fcca14d37665411a93f0c2b02ab17b50",
       "version_major": 2,
       "version_minor": 0
      },
      "text/plain": [
       "interactive(children=(IntSlider(value=350, description='Slice', max=699), Output()), layout=Layout(align_items…"
      ]
     },
     "execution_count": 13,
     "metadata": {},
     "output_type": "execute_result"
    }
   ],
   "source": [
    "qim3d.viz.slicer(vol_normalized, color_map='gray')"
   ]
  },
  {
   "cell_type": "markdown",
   "id": "42d9fd1b",
   "metadata": {},
   "source": [
    "<img src=\"./screenshots/guide_slicer1.png\" alt=\"Escargot Slicer (New)\" width=350>"
   ]
  },
  {
   "cell_type": "code",
   "execution_count": 14,
   "id": "a25ce41c",
   "metadata": {},
   "outputs": [
    {
     "data": {
      "application/vnd.jupyter.widget-view+json": {
       "model_id": "b208dd30c8984b28b6760b97ccbd7e36",
       "version_major": 2,
       "version_minor": 0
      },
      "text/plain": [
       "interactive(children=(IntSlider(value=350, description='Slice', max=699), Output()), layout=Layout(align_items…"
      ]
     },
     "execution_count": 14,
     "metadata": {},
     "output_type": "execute_result"
    }
   ],
   "source": [
    "qim3d.viz.slicer(vol, color_map='gray')"
   ]
  },
  {
   "cell_type": "markdown",
   "id": "1e02bc0f",
   "metadata": {},
   "source": [
    "<img src=\"./screenshots/guide_slicer2.png\" alt=\"Escargot Slicer (Old)\" width=350>"
   ]
  }
 ],
 "metadata": {
  "kernelspec": {
   "display_name": "dev",
   "language": "python",
   "name": "python3"
  },
  "language_info": {
   "codemirror_mode": {
    "name": "ipython",
    "version": 3
   },
   "file_extension": ".py",
   "mimetype": "text/x-python",
   "name": "python",
   "nbconvert_exporter": "python",
   "pygments_lexer": "ipython3",
   "version": "3.11.13"
  }
 },
 "nbformat": 4,
 "nbformat_minor": 5
}
