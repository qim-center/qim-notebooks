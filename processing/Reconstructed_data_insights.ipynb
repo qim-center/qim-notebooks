{
 "cells": [
  {
   "cell_type": "markdown",
   "id": "fd01dad4-fae3-4947-af8c-bd1987a2dd11",
   "metadata": {},
   "source": [
    "<img src=\"https://docs.qim.dk/qim3d/assets/qim3d-logo.svg\" width=\"256\">\n",
    "\n",
    "# Volumetric data insights using `qim3d`\n",
    "\n",
    "This notebook provides an initial pipeline for exploring reconstructed volumetric datasets.\n",
    "\n",
    "We'll begin with image visualization and interactive exploration, and conclude with basic quantitative image analysis.\n"
   ]
  },
  {
   "cell_type": "code",
   "execution_count": null,
   "id": "6d4aff96-5ab8-4fd8-ab0a-7135d2c59909",
   "metadata": {},
   "outputs": [],
   "source": [
    "import qim3d\n",
    "import numpy as np"
   ]
  },
  {
   "cell_type": "markdown",
   "id": "b189e8b8-3ed2-4090-90a9-b8afbbd8ae57",
   "metadata": {},
   "source": [
    "### Select data\n",
    "Use the variable `DATA_PATH` for your reconstructed dataset"
   ]
  },
  {
   "cell_type": "code",
   "execution_count": null,
   "id": "422f49fd-38e6-485d-a15e-2d0bd2802c18",
   "metadata": {},
   "outputs": [],
   "source": [
    "DATA_PATH = \"/dtu/3d-imaging-center/courses/CIL-QIM25_workshop/data/foraminifera/Amphi_13363_10X-40kV-LE1-20s-1p45micro_recon.txm\""
   ]
  },
  {
   "cell_type": "markdown",
   "id": "c82924ac-6d59-4ef0-924f-00d7b3ea7c8f",
   "metadata": {},
   "source": [
    "### Loading data"
   ]
  },
  {
   "cell_type": "code",
   "execution_count": null,
   "id": "f71c13ee-b8b1-44ca-85d6-537821a20245",
   "metadata": {},
   "outputs": [],
   "source": [
    "vol = qim3d.io.load(DATA_PATH, progress_bar=True, display_memory_usage=True)"
   ]
  },
  {
   "cell_type": "markdown",
   "id": "23984613-b3db-4e68-ac52-83abf91fb9a4",
   "metadata": {},
   "source": [
    "### Initial exploration"
   ]
  },
  {
   "cell_type": "code",
   "execution_count": null,
   "id": "b522f89e-5713-4650-a56f-0c6571ac7342",
   "metadata": {},
   "outputs": [],
   "source": [
    "qim3d.viz.slicer(vol, color_bar='slices', slice_axis=1)"
   ]
  },
  {
   "cell_type": "code",
   "execution_count": null,
   "id": "390cb40a-c812-47d0-b1a0-7bb265d5b4de",
   "metadata": {},
   "outputs": [],
   "source": [
    "hist = qim3d.viz.histogram(vol, coarseness=10)"
   ]
  },
  {
   "cell_type": "markdown",
   "id": "11ff36d1-61c6-4095-9df0-19f26d53cfd2",
   "metadata": {},
   "source": [
    "### Find data boundaries\n",
    "\n",
    "The threshold exploration tool can be used to check the threshold levels to be used"
   ]
  },
  {
   "cell_type": "code",
   "execution_count": null,
   "id": "ba5e4007-9c3f-471a-b3ec-2a59f78ebddd",
   "metadata": {},
   "outputs": [],
   "source": [
    "qim3d.viz.threshold(vol, coarseness=4)"
   ]
  },
  {
   "cell_type": "code",
   "execution_count": null,
   "id": "4b3c294f-3df4-4d8c-9df3-56ad7d471127",
   "metadata": {},
   "outputs": [],
   "source": [
    "MIN_INTESITY = 30000\n",
    "MAX_INTENSITY = 60000"
   ]
  },
  {
   "cell_type": "code",
   "execution_count": null,
   "id": "50a6b9d5-012c-42b0-8e92-cf0eb25d42bc",
   "metadata": {},
   "outputs": [],
   "source": [
    "qim3d.viz.slicer(vol, value_min=MIN_INTESITY, value_max=MAX_INTENSITY)"
   ]
  },
  {
   "cell_type": "code",
   "execution_count": null,
   "id": "4afcac49-8c90-4ae4-9d23-f69917a843b4",
   "metadata": {},
   "outputs": [],
   "source": [
    "qim3d.viz.volumetric(vol)"
   ]
  },
  {
   "cell_type": "markdown",
   "id": "dc4e7e67-a18d-4fca-83be-cb5bc3ddd1a1",
   "metadata": {},
   "source": [
    "## Make binary volume"
   ]
  },
  {
   "cell_type": "code",
   "execution_count": null,
   "id": "fdd3ca6b-3dc9-4d0e-9789-f11daa270801",
   "metadata": {},
   "outputs": [],
   "source": [
    "vol_binary = vol > MIN_INTESITY"
   ]
  },
  {
   "cell_type": "code",
   "execution_count": null,
   "id": "2a82e01e-c2c1-4f36-9254-4a09120be752",
   "metadata": {},
   "outputs": [],
   "source": [
    "qim3d.viz.slicer(vol_binary, image_size=6)"
   ]
  },
  {
   "cell_type": "code",
   "execution_count": null,
   "id": "3c95eea5-7a9f-4c41-adb4-3f66e3a87484",
   "metadata": {},
   "outputs": [],
   "source": [
    "vol_closed = qim3d.morphology.closing(vol_binary, kernel=3, method='scipy.ndimage')"
   ]
  },
  {
   "cell_type": "code",
   "execution_count": null,
   "id": "f03741aa-ba48-4573-8d4c-f0fb8abcde4f",
   "metadata": {},
   "outputs": [],
   "source": [
    "qim3d.viz.slicer(vol_closed, image_size=6)"
   ]
  },
  {
   "cell_type": "markdown",
   "id": "0090b84e-b450-4d4a-8746-8891d50dbc82",
   "metadata": {},
   "source": [
    "## Extracting the Largest Connected Component\n",
    "\n",
    "In volumetric image analysis, a connected component refers to a group of neighboring voxels. Typically, if the binary volume well createdx, they are part of the same object. By performing a connected components analysis, we can assign a unique label to each distinct object in the volume.\n",
    "\n",
    "However, due to background noise or small artifacts, many tiny components may be detected (some as small as a single voxel). These are not relevant in this case.\n",
    "\n",
    "Fortunately, we often have prior knowledge that the object of interest is the largest structure in the volume. \n",
    "Using the `qim3d` library, we can easily isolate and extract this largest component, allowing us to focus on the meaningful part of the data."
   ]
  },
  {
   "cell_type": "code",
   "execution_count": null,
   "id": "6d85b785-c3af-489c-bb8c-cdba00f1a59a",
   "metadata": {},
   "outputs": [],
   "source": [
    "vol_cc = qim3d.segmentation.connected_components(vol_closed)"
   ]
  },
  {
   "cell_type": "code",
   "execution_count": null,
   "id": "bbb51498-b4dc-45c2-9956-536e55577478",
   "metadata": {},
   "outputs": [],
   "source": [
    "color_map = qim3d.viz.colormaps.segmentation(len(vol_cc), style='bright')"
   ]
  },
  {
   "cell_type": "code",
   "execution_count": null,
   "id": "ae059d37-2757-42f5-b634-502c98acd614",
   "metadata": {},
   "outputs": [],
   "source": [
    "print(f\"Total number of components: {len(vol_cc)}\")"
   ]
  },
  {
   "cell_type": "code",
   "execution_count": null,
   "id": "09abc92b-0e02-4b30-a262-614b4e15a8c5",
   "metadata": {},
   "outputs": [],
   "source": [
    "qim3d.viz.slicer(vol_cc.labels, slice_axis=0, color_map=color_map, image_size=6)"
   ]
  },
  {
   "cell_type": "markdown",
   "id": "d2a77254-fbb9-497c-b97c-c58a52ed6343",
   "metadata": {},
   "source": [
    "We can use the volumetric visualization to better understand the components created from noise.\n",
    "\n",
    "To see the single voxels, make sure to open the `Volume #1` panel and set `samples` to `1000`"
   ]
  },
  {
   "cell_type": "code",
   "execution_count": null,
   "id": "f7590808-58dc-46c2-a59f-b5b77fe0450b",
   "metadata": {},
   "outputs": [],
   "source": [
    "qim3d.viz.volumetric(vol_cc.labels, color_map=color_map, opacity_function=\"constant\")"
   ]
  },
  {
   "cell_type": "markdown",
   "id": "6d33f8bb-f706-4c41-ab4f-77b114c27890",
   "metadata": {},
   "source": [
    "Here we can filter the *n* largest components, but we're interesred only on the first"
   ]
  },
  {
   "cell_type": "code",
   "execution_count": null,
   "id": "2a8001c2-cf94-4433-8c02-42983cd76449",
   "metadata": {},
   "outputs": [],
   "source": [
    "vol_largest_cc = vol_cc.filter_by_largest(1)"
   ]
  },
  {
   "cell_type": "code",
   "execution_count": null,
   "id": "15a070ac-9e9b-4316-994f-7120683df0bd",
   "metadata": {},
   "outputs": [],
   "source": [
    "qim3d.viz.slicer(vol_largest_cc, image_size=6)"
   ]
  },
  {
   "cell_type": "markdown",
   "id": "10e3cbc1-6d55-4f10-9682-85ac0a0f68f5",
   "metadata": {},
   "source": [
    "Now that we're visualizing a solid 3D object, we can improve the view by slicing through the volume. This helps us inspect internal structures more easily.\n",
    "To do this:\n",
    "\n",
    "1. Open the Controls panel.\n",
    "2. Navigate to Clipping Planes and click Add New.\n",
    "3. Click From Camera [Start] to begin defining the clipping plane based on your current view.\n",
    "4. Zoom in or rotate the view until the volume is sliced in half or positioned as desired.\n",
    "5. Once satisfied, click From Camera [Stop] to finalize the clipping plane.\n",
    "\n",
    "For enhanced rendering:\n",
    "\n",
    "1. Go to the Volume #1 settings.\n",
    "2. Increase the number of samples to improve image quality.\n",
    "3. Enable shadows to add depth and realism to the visualization."
   ]
  },
  {
   "cell_type": "code",
   "execution_count": null,
   "id": "db5ee90e-f252-4d79-8d7b-f896b4abaf5c",
   "metadata": {},
   "outputs": [],
   "source": [
    "qim3d.viz.volumetric(vol_largest_cc, opacity_function=\"constant\")"
   ]
  },
  {
   "cell_type": "markdown",
   "id": "3e6fbdc5-69d7-4cc1-9b47-661f66835bd1",
   "metadata": {},
   "source": [
    "## Local thickness\n",
    "\n",
    "Now that we've isolated a solid object from the volume, we can begin performing quantitative analysis. One useful metric is Local Thickness.\n",
    "\n",
    "Local Thickness assigns a value to each voxel based on the diameter of the largest sphere that can fit entirely within the object at that location. This gives us a localized measure of the object's thickness, which can be useful for understanding its structure, identifying thin regions, or comparing different areas.\n",
    "The qim3d library provides tools to compute this efficiently, allowing us to generate a new volume where each voxel encodes its local thickness."
   ]
  },
  {
   "cell_type": "code",
   "execution_count": null,
   "id": "41eb4209-8093-4e8b-b167-a0ed3b7bf491",
   "metadata": {},
   "outputs": [],
   "source": [
    "# Some clean up\n",
    "del vol_binary\n",
    "del vol_closed\n",
    "del vol_cc"
   ]
  },
  {
   "cell_type": "markdown",
   "id": "3233fbe7-2d9f-4d47-985f-4e42003b88e2",
   "metadata": {},
   "source": [
    "We can perform a subsampling of the dataset to ecrease the processing time"
   ]
  },
  {
   "cell_type": "code",
   "execution_count": null,
   "id": "c8fb44b3-a309-45ef-8293-d191aab89b4d",
   "metadata": {},
   "outputs": [],
   "source": [
    "vol_sub = qim3d.operations.subsample(vol_largest_cc, coarseness=4)\n",
    "print (f\"Subsampled shape: {vol_sub.shape}\")"
   ]
  },
  {
   "cell_type": "code",
   "execution_count": null,
   "id": "573da5ca-0394-4b58-b6d1-d291e801ebf9",
   "metadata": {},
   "outputs": [],
   "source": [
    "vol_lt = qim3d.processing.local_thickness(vol_sub, visualize=False)"
   ]
  },
  {
   "cell_type": "code",
   "execution_count": null,
   "id": "6227575b-935e-4b2c-88cc-44aab052d679",
   "metadata": {},
   "outputs": [],
   "source": [
    "qim3d.viz.slicer(vol_lt, color_bar='volume', image_size=6)"
   ]
  },
  {
   "cell_type": "code",
   "execution_count": null,
   "id": "0f5dd3d8-6d48-4e5d-84e3-0b18a89807eb",
   "metadata": {},
   "outputs": [],
   "source": [
    "qim3d.viz.volumetric(vol_lt)"
   ]
  },
  {
   "cell_type": "code",
   "execution_count": null,
   "id": "9896f16d-8fd6-40e3-a46f-89cc133945cf",
   "metadata": {},
   "outputs": [],
   "source": [
    "hist_lt = qim3d.viz.histogram(vol_lt, coarseness=10)"
   ]
  },
  {
   "cell_type": "code",
   "execution_count": null,
   "id": "7d8970b9-dda7-409c-92ea-3cf9217588f3",
   "metadata": {},
   "outputs": [],
   "source": [
    "vol_thin = np.where(vol_lt >= 10, vol_lt, 0)"
   ]
  },
  {
   "cell_type": "code",
   "execution_count": null,
   "id": "a575e1e6-4eea-4fb6-9305-82f9e2314a31",
   "metadata": {},
   "outputs": [],
   "source": [
    "qim3d.viz.slicer(vol_thin.astype(bool), color_bar='volume', image_size=6)"
   ]
  }
 ],
 "metadata": {
  "kernelspec": {
   "display_name": "Python 3 (ipykernel)",
   "language": "python",
   "name": "python3"
  },
  "language_info": {
   "codemirror_mode": {
    "name": "ipython",
    "version": 3
   },
   "file_extension": ".py",
   "mimetype": "text/x-python",
   "name": "python",
   "nbconvert_exporter": "python",
   "pygments_lexer": "ipython3",
   "version": "3.12.11"
  }
 },
 "nbformat": 4,
 "nbformat_minor": 5
}
