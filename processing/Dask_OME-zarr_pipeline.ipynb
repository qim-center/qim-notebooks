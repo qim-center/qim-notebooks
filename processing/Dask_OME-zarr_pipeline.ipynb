{
 "cells": [
  {
   "cell_type": "markdown",
   "id": "493cc363",
   "metadata": {},
   "source": [
    "# Dask & OME-Zarr\n",
    "Chunk-wise Volumetric Image Processing"
   ]
  },
  {
   "cell_type": "code",
   "execution_count": 1,
   "id": "5b56736e",
   "metadata": {},
   "outputs": [],
   "source": [
    "import qim3d\n",
    "from dask.distributed import Client\n",
    "import dask.array as da\n",
    "import zarr\n",
    "from ome_zarr.io import parse_url\n",
    "from ome_zarr.reader import Reader\n",
    "from ome_zarr.io import ZarrLocation\n",
    "from dask_image.ndfilters import uniform_filter"
   ]
  },
  {
   "cell_type": "code",
   "execution_count": 2,
   "id": "833c6a65",
   "metadata": {},
   "outputs": [],
   "source": [
    "# Start Dask client with memory limit\n",
    "client = Client(n_workers=1, memory_limit='1GB')"
   ]
  },
  {
   "cell_type": "code",
   "execution_count": null,
   "id": "9109156b",
   "metadata": {},
   "outputs": [],
   "source": [
    "# Load the OME-Zarr input file\n",
    "\n",
    "location = ZarrLocation('Escargot.zarr')\n",
    "reader = Reader(location)\n",
    "nodes = list(reader())\n",
    "image_node = nodes[0]\n",
    "data = image_node.data[0]  # Assuming single scale level\n",
    "\n",
    "data"
   ]
  },
  {
   "cell_type": "code",
   "execution_count": null,
   "id": "a7a43d27-5399-4d0b-add4-6a819be27ed0",
   "metadata": {},
   "outputs": [],
   "source": [
    "qim3d.viz.slicer(data, coarseness=4, image_size=6)"
   ]
  },
  {
   "cell_type": "code",
   "execution_count": null,
   "id": "282c8ea3",
   "metadata": {},
   "outputs": [],
   "source": [
    "# Apply operations on the volume\n",
    "output = data\n",
    "output = uniform_filter(output, size=(75,75,75))\n",
    "output[200:400, 400:600, 400:600] = 255\n",
    "output"
   ]
  },
  {
   "cell_type": "code",
   "execution_count": null,
   "id": "b4be54d7",
   "metadata": {},
   "outputs": [],
   "source": [
    "# Save the result to Output.zarr\n",
    "output.to_zarr('Output.zarr', component='output', overwrite=True)\n",
    "print('Saved thresholded data to Output.zarr')"
   ]
  },
  {
   "cell_type": "code",
   "execution_count": null,
   "id": "43928119-4e25-490d-b7f3-25a067fac12c",
   "metadata": {},
   "outputs": [],
   "source": [
    "# Open the Zarr store directly\n",
    "output_store = zarr.DirectoryStore('Output.zarr')\n",
    "output_group = zarr.open(output_store, mode='r')\n",
    "\n",
    "# Load the thresholded dataset as a Dask array\n",
    "data_output = da.from_zarr(output_group['output'])\n",
    "data_output"
   ]
  },
  {
   "cell_type": "code",
   "execution_count": null,
   "id": "580cd74c-a955-484e-96de-be9c28d2bf14",
   "metadata": {},
   "outputs": [],
   "source": [
    "qim3d.viz.slicer(data_output, coarseness=4, image_size=6)"
   ]
  },
  {
   "cell_type": "code",
   "execution_count": null,
   "id": "84d6a541",
   "metadata": {},
   "outputs": [],
   "source": [
    "# Shutdown Dask client\n",
    "# client.shutdown()"
   ]
  },
  {
   "cell_type": "code",
   "execution_count": null,
   "id": "d266f852-27c1-41ad-8fe0-fcb5f61f9d06",
   "metadata": {},
   "outputs": [],
   "source": []
  },
  {
   "cell_type": "code",
   "execution_count": null,
   "id": "54ac7039-f958-4688-a00f-7e153909aa1c",
   "metadata": {},
   "outputs": [],
   "source": []
  }
 ],
 "metadata": {
  "kernelspec": {
   "display_name": "Python 3 (ipykernel)",
   "language": "python",
   "name": "python3"
  },
  "language_info": {
   "codemirror_mode": {
    "name": "ipython",
    "version": 3
   },
   "file_extension": ".py",
   "mimetype": "text/x-python",
   "name": "python",
   "nbconvert_exporter": "python",
   "pygments_lexer": "ipython3",
   "version": "3.11.11"
  }
 },
 "nbformat": 4,
 "nbformat_minor": 5
}
