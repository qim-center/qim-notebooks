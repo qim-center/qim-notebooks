{
 "cells": [
  {
   "cell_type": "markdown",
   "metadata": {},
   "source": [
    "### **CT padding pipeline**\n",
    "This notebook provides a pipeline for reconstruction using the padding method to mitigate the ROI problem, which can lead to circle and cupping artifacts. An ordinary reconstruction is first done to see whether such artifacts are present and for comparison later in the notebook. There is also export functionality at the end."
   ]
  },
  {
   "cell_type": "markdown",
   "metadata": {},
   "source": [
    "### **Python module imports**"
   ]
  },
  {
   "cell_type": "code",
   "execution_count": 1,
   "metadata": {},
   "outputs": [],
   "source": [
    "# General imports\n",
    "import glob, os, pathlib\n",
    "import psutil\n",
    "import qim3d\n",
    "import cil\n",
    "import numpy as np\n",
    "import matplotlib.pyplot as plt\n",
    "from IPython.display import clear_output\n",
    "from ipywidgets import interact, interactive, IntSlider\n",
    "import math\n",
    "import h5py"
   ]
  },
  {
   "cell_type": "code",
   "execution_count": 2,
   "metadata": {},
   "outputs": [],
   "source": [
    "# CIL imports\n",
    "from cil.io import ZEISSDataReader, NikonDataReader\n",
    "from cil.processors import TransmissionAbsorptionConverter\n",
    "from cil.processors import Slicer\n",
    "from cil.recon import FDK\n",
    "from cil.utilities.jupyter import islicer\n",
    "from cil.utilities.display import show_geometry, show2D"
   ]
  },
  {
   "cell_type": "code",
   "execution_count": 3,
   "metadata": {},
   "outputs": [],
   "source": [
    "# Visualization utility function\n",
    "def comparator_widget(arr1, arr2, titles=None, cmap='grey', vrange=None):\n",
    "    axis_slider = IntSlider(min=0, max=len(arr1.shape) - 1, step=1, value=0, description=\"Axis\")\n",
    "    index_slider = IntSlider(min=0, max=arr1.shape[0] - 1, step=1, value=arr1.shape[0] // 2, description=\"Index\")\n",
    "    \n",
    "    if titles is None:\n",
    "        titles = [\"\", \"\"]\n",
    "    \n",
    "    if vrange is None:\n",
    "        vmin = (arr1.min(), arr2.min())\n",
    "        vmax = (arr1.max(), arr2.max())\n",
    "    else:\n",
    "        vmin = (vrange[0], vrange[0])\n",
    "        vmax = (vrange[1], vrange[1])\n",
    "\n",
    "    # Function to update and display the comparison\n",
    "    def array_comparator(axis=0, index=0):\n",
    "        # Update the index slider range dynamically based on the selected axis\n",
    "        index_slider.max = arr1.shape[axis] - 1\n",
    "        if index > index_slider.max:\n",
    "            index_slider.value = index_slider.max\n",
    "            return\n",
    "\n",
    "        slice1 = np.take(arr1, index_slider.value, axis=axis)\n",
    "        slice2 = np.take(arr2, index_slider.value, axis=axis)\n",
    "\n",
    "        fig, ax = plt.subplots(1, 2, figsize=(12, 6))\n",
    "\n",
    "        im = ax[0].imshow(slice1, cmap=cmap, vmin=vmin[0], vmax=vmax[0])\n",
    "        pos = ax[0].get_position()\n",
    "        fig.colorbar(im, ax=ax[0], location='left', fraction=0.046, pad=0.15)\n",
    "        ax[0].set_title(titles[0])\n",
    "\n",
    "        im = ax[1].imshow(slice2, cmap=cmap, vmin=vmin[1], vmax=vmax[1])\n",
    "        fig.colorbar(im, ax=ax[1], location='right', fraction=0.046, pad=0.15)\n",
    "        ax[1].set_title(titles[1])\n",
    "\n",
    "        # fig.tight_layout()\n",
    "        plt.show()\n",
    "\n",
    "    return interactive(array_comparator, axis=axis_slider, index=index_slider)"
   ]
  },
  {
   "cell_type": "markdown",
   "metadata": {},
   "source": [
    "### **User parameters**"
   ]
  },
  {
   "cell_type": "markdown",
   "metadata": {},
   "source": [
    "All the parameters required for the pipeline are set here in the beginning of the notebook. They are also mentioned where they are used. Here they are described in detail:\n",
    "\n",
    "- `ct_path`: the path to the CT reconstruction metadata file. Should be from **Nikon** (`.xtekct`) or **ZEISS** (`.txrm`).\n",
    "\n",
    "- `center_height`: determines how many center-most slices to use from the projections. Setting it to `'full'` uses the whole projection volume. `center_height` cannot exceed the height of the projections.\n",
    "\n",
    "- `pad_factor`: the amount of padding to add at each side of the sinogram in the padding method. Thus setting `pad_factor = 0.25` will make the sinogram 50% bigger. From previous experiments `pad_factor` should be set to at least `0.25` to make the method work properly (pushing the artifacts outside of the ROI). There might be benefits from choosing an even higher `pad_factor`, but this is a case-by-case basis and depends on the specific dataset.\n",
    "\n",
    "- `save_to_disk`: boolean variable for toggling saving the padded reconstruction. **If `save_to_disk` is set to `True`, then an existing file may be overwritten.**\n",
    "\n",
    "- `clip_range`: the intensity range that will be used to clip the volume when exporting.\n",
    "\n",
    "- `base_filename`: the base filename will be used for exporting. The file is saved under the HDF5 format and the extension `.h5` will be appended."
   ]
  },
  {
   "cell_type": "code",
   "execution_count": 4,
   "metadata": {},
   "outputs": [],
   "source": [
    "ct_path = '/dtu/3d-imaging-center/projects/2021_DANFIX_Casper/raw_data_3DIM/Casper_top_3_2 [2021-03-17 16.54.39]/Casper_top_3_2_recon.xtekct'\n",
    "center_height = 100\n",
    "pad_factor = 0.25\n",
    "save_to_disk = True\n",
    "clip_range = (0.0, 0.07)\n",
    "base_filename = 'top_3_2_padded'"
   ]
  },
  {
   "cell_type": "markdown",
   "metadata": {},
   "source": [
    "### **Data reading and processing**"
   ]
  },
  {
   "cell_type": "markdown",
   "metadata": {},
   "source": [
    "For faster processing, we may work on a subset of slices. `center_height` determines how many of the center-most slices should be used. Set to `'full'` to use full volume."
   ]
  },
  {
   "cell_type": "code",
   "execution_count": 5,
   "metadata": {},
   "outputs": [],
   "source": [
    "def create_reader(file_name, roi=None):\n",
    "    if file_name.endswith('txrm'):\n",
    "        DataReader = ZEISSDataReader\n",
    "    elif file_name.endswith('xtekct'):\n",
    "        DataReader = NikonDataReader\n",
    "    else:\n",
    "        raise ValueError(\"Unrecognizable CT metadata file. File extension should either be '.txrm' or '.xtekct'\")\n",
    "    \n",
    "    if roi is None:\n",
    "        return DataReader(file_name=file_name)\n",
    "    else:\n",
    "        return DataReader(file_name=file_name, roi=roi)\n",
    "\n",
    "def get_pixel_nums(ct_path):\n",
    "    reader = create_reader(file_name=ct_path)\n",
    "    num_pixels_h = reader.get_geometry().pixel_num_h\n",
    "    num_pixels_v = reader.get_geometry().pixel_num_v\n",
    "    return num_pixels_h, num_pixels_v\n",
    "\n",
    "num_pixels_h, num_pixels_v = get_pixel_nums(ct_path)\n",
    "\n",
    "if center_height == 'full':\n",
    "    reader = create_reader(file_name=ct_path)\n",
    "else:\n",
    "    slice_dict = {'vertical': (\n",
    "        num_pixels_v // 2 - center_height // 2,\n",
    "        num_pixels_v // 2 + center_height // 2,\n",
    "        1\n",
    "    )}\n",
    "    reader = create_reader(file_name=ct_path, roi=slice_dict)"
   ]
  },
  {
   "cell_type": "markdown",
   "metadata": {},
   "source": [
    "Reading the data might take some time."
   ]
  },
  {
   "cell_type": "code",
   "execution_count": 6,
   "metadata": {},
   "outputs": [],
   "source": [
    "data = reader.read()"
   ]
  },
  {
   "cell_type": "markdown",
   "metadata": {},
   "source": [
    "Usually the data is given in the transmission domain and thus we convert to the absorption domain."
   ]
  },
  {
   "cell_type": "code",
   "execution_count": 7,
   "metadata": {},
   "outputs": [],
   "source": [
    "data = TransmissionAbsorptionConverter()(data)"
   ]
  },
  {
   "cell_type": "markdown",
   "metadata": {},
   "source": [
    "### **Ordinary reconstruction**"
   ]
  },
  {
   "cell_type": "code",
   "execution_count": 8,
   "metadata": {},
   "outputs": [],
   "source": [
    "data.reorder(order='tigre')\n",
    "recon = FDK(data).run(verbose=0)"
   ]
  },
  {
   "cell_type": "markdown",
   "metadata": {},
   "source": [
    "Here we inspect the reconstruction for artifacts to see if padding is necessary."
   ]
  },
  {
   "cell_type": "code",
   "execution_count": 9,
   "metadata": {},
   "outputs": [],
   "source": [
    "# islicer(recon)\n",
    "qim3d.viz.line_profile(recon.as_array())"
   ]
  },
  {
   "cell_type": "markdown",
   "metadata": {},
   "source": [
    "### **Reconstruction with padding**"
   ]
  },
  {
   "cell_type": "code",
   "execution_count": 10,
   "metadata": {},
   "outputs": [],
   "source": [
    "from cil.processors import Padder\n",
    "\n",
    "dim_horizontal = data.get_data_axes_order().index('horizontal')\n",
    "pad_width = round(pad_factor * data.shape[dim_horizontal])\n",
    "data_padded = Padder.edge(pad_width={'horizontal': pad_width})(data)"
   ]
  },
  {
   "cell_type": "code",
   "execution_count": 11,
   "metadata": {},
   "outputs": [],
   "source": [
    "data.shape, data_padded.shape"
   ]
  },
  {
   "cell_type": "markdown",
   "metadata": {},
   "source": [
    "In the following, the padded data is passed as a sinogram to FDK, while the original image geometry is used for the volume to reconstruct. This is more efficient than the default behaviour of reconstructing on a correspondingly padded volume that we would have to crop to the original size anyway."
   ]
  },
  {
   "cell_type": "code",
   "execution_count": 12,
   "metadata": {},
   "outputs": [],
   "source": [
    "data_padded.reorder(order='tigre')\n",
    "ig = data.geometry.get_ImageGeometry()"
   ]
  },
  {
   "cell_type": "code",
   "execution_count": null,
   "metadata": {},
   "outputs": [],
   "source": [
    "del data # this saves a good amount of memory"
   ]
  },
  {
   "cell_type": "code",
   "execution_count": null,
   "metadata": {},
   "outputs": [],
   "source": [
    "recon_padded = FDK(data_padded, ig).run(verbose=0)"
   ]
  },
  {
   "cell_type": "code",
   "execution_count": 13,
   "metadata": {},
   "outputs": [],
   "source": [
    "print(recon_padded)"
   ]
  },
  {
   "cell_type": "code",
   "execution_count": 14,
   "metadata": {},
   "outputs": [],
   "source": [
    "# islicer(recon_padded, axis_labels=list(recon.dimension_labels))\n",
    "qim3d.viz.line_profile(recon_padded.as_array())"
   ]
  },
  {
   "cell_type": "markdown",
   "metadata": {},
   "source": [
    "### **Visual comparison**"
   ]
  },
  {
   "cell_type": "markdown",
   "metadata": {},
   "source": [
    "The parameter `vrange` specifies the ranges to use. Not specifying it or setting it to `None` uses each of the volumes full intensity range. Experimenting with `vrange` can be used to finetune `clip_range`."
   ]
  },
  {
   "cell_type": "code",
   "execution_count": 15,
   "metadata": {},
   "outputs": [],
   "source": [
    "vrange = clip_range\n",
    "comparator_widget(recon.as_array(), recon_padded.as_array(), titles=['No padding', 'Padding'], vrange=vrange)"
   ]
  },
  {
   "cell_type": "markdown",
   "metadata": {},
   "source": [
    "### **Exporting**"
   ]
  },
  {
   "cell_type": "markdown",
   "metadata": {},
   "source": [
    "Choose the interval `clip_range` to clip the data to and the `base_filename` to save to (the extension is added automatically). The `clip_range` and `pad_factor` will be stored as metadata. The reconstruction volume will be converted to uint16 for exporting."
   ]
  },
  {
   "cell_type": "code",
   "execution_count": 16,
   "metadata": {},
   "outputs": [],
   "source": [
    "h5_filename = f'{base_filename}.h5'"
   ]
  },
  {
   "cell_type": "code",
   "execution_count": 17,
   "metadata": {},
   "outputs": [],
   "source": [
    "if save_to_disk:\n",
    "    vol = np.clip(recon_padded.as_array(), a_min=clip_range[0], a_max=clip_range[1])\n",
    "    vol = (vol - clip_range[0]) / (clip_range[1] - clip_range[0])\n",
    "    vol = (vol * (2**16 - 1)).astype(np.uint16)\n",
    "    with h5py.File(h5_filename, 'w') as f:\n",
    "        f.create_dataset('recon_vol', data=vol)\n",
    "        f.attrs['clip_range'] = clip_range\n",
    "        f.attrs['pad_factor'] = pad_factor"
   ]
  },
  {
   "cell_type": "markdown",
   "metadata": {},
   "source": [
    "Below we show how to read the exported file back into memory."
   ]
  },
  {
   "cell_type": "code",
   "execution_count": 18,
   "metadata": {},
   "outputs": [],
   "source": [
    "with h5py.File(h5_filename, 'r') as f:\n",
    "    vol = f['recon_vol'][...]"
   ]
  },
  {
   "cell_type": "code",
   "execution_count": 19,
   "metadata": {},
   "outputs": [],
   "source": [
    "qim3d.viz.line_profile(vol)"
   ]
  }
 ],
 "metadata": {
  "kernelspec": {
   "display_name": "Python 3 (ipykernel)",
   "language": "python",
   "name": "python3"
  }
 },
 "nbformat": 4,
 "nbformat_minor": 4
}
