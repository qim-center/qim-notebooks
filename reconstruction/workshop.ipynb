{
 "cells": [
  {
   "cell_type": "markdown",
   "id": "1f27469f",
   "metadata": {},
   "source": [
    "### **Introduction**\n",
    "The data consists of 1601 cone-beam projections with a detector of size 1006x1006. The scanned specimen was [foraminifera](https://en.wikipedia.org/wiki/Foraminifera), a microscopic marine organism."
   ]
  },
  {
   "cell_type": "code",
   "execution_count": 1,
   "id": "954740a2",
   "metadata": {},
   "outputs": [],
   "source": [
    "INPUT_PATH = '/dtu/3d-imaging-center/courses/CIL-QIM25_workshop/data/foraminifera/Amphi_13363_10X-40kV-LE1-20s-1p45micro.txrm'\n",
    "CENTRE_OF_ROTATION_OFFSET = 0.046424131475367544"
   ]
  },
  {
   "cell_type": "markdown",
   "id": "3e8a070a",
   "metadata": {},
   "source": [
    "As a baseline, we will use the fast FDK algorithm for cone-beam filtered backprojection. This is usually sufficient when projections are plentiful. When that is not the case, however, the reconstruction can be sensitive to noise and exhibit streak artifacts.\n",
    "\n",
    "Optimisation-based iterative algorithms offer an alternative by balancing fidelity with regularization. In this notebook, we compare two such approaches:\n",
    "- FISTA with a nonnegativity constraint\n",
    "- FISTA with total variation (TV) regularization (and nonnegativity)"
   ]
  },
  {
   "cell_type": "markdown",
   "id": "1f0a67d3",
   "metadata": {},
   "source": [
    "### **Module imports**"
   ]
  },
  {
   "cell_type": "code",
   "execution_count": 2,
   "id": "b3a2d2fd",
   "metadata": {},
   "outputs": [],
   "source": [
    "import os\n",
    "import numpy as np\n",
    "import matplotlib.pyplot as plt\n",
    "import qim3d\n",
    "\n",
    "# CIL imports\n",
    "import cil\n",
    "from cil.io import ZEISSDataReader\n",
    "from cil.framework import ImageGeometry, AcquisitionGeometry, BlockDataContainer\n",
    "from cil.processors import TransmissionAbsorptionConverter\n",
    "from cil.recon import FDK\n",
    "from cil.optimisation.algorithms import GD, FISTA, SIRT, CGLS\n",
    "from cil.optimisation.functions import LeastSquares, IndicatorBox, TotalVariation\n",
    "from cil.optimisation.operators import BlockOperator, GradientOperator, IdentityOperator\n",
    "from cil.plugins.tigre import ProjectionOperator\n",
    "from cil.plugins.ccpi_regularisation.functions import FGP_TV\n",
    "from cil.utilities.display import show_geometry, show2D\n",
    "from cil.optimisation.utilities import callbacks"
   ]
  },
  {
   "cell_type": "markdown",
   "id": "2249f322",
   "metadata": {},
   "source": [
    "### **User parameters**"
   ]
  },
  {
   "cell_type": "markdown",
   "id": "85cb89b3",
   "metadata": {},
   "source": [
    "Here we introduce the configurable parameters that control the data used for the reconstruction experiments. The primary aim is to study how projection subsampling affects different algorithms and the resulting image analysis. Additional options for detector subsampling and vertical cropping allow faster processing during testing by reducing data size.\n",
    "\n",
    "The parameters are:\n",
    "- `PROJECTION_SUBSAMPLING`: controls the spacing between the projections. A value of $1$ corresponds to using all projections and a value of $5$ would reduce the projections by a factor $5$.\n",
    "- `DETECTOR_SUBSAMPLING`: controls the spacing between pixels in both horizontal and vertical directions on of the detector array. A value of $1$ uses all pixels, and a value of $2$ reduces the total number of pixels by a factor of $2^2$.\n",
    "- `VERTICAL_CROP_RATIO`: fraction of slices to keep as a centered vertical crop of the volume. A value of $1$ corresponds to no cropping, and a value of $0.5$ would discard $25\\%$ from top and bottom. To speed up computations during testing, a value such as $0.05$ can be used, though very small values (that would result in a single slice) will cause errors in the CIL reader."
   ]
  },
  {
   "cell_type": "code",
   "execution_count": 3,
   "id": "690b6263",
   "metadata": {},
   "outputs": [],
   "source": [
    "PROJECTION_SUBSAMPLING = 10\n",
    "DETECTOR_SUBSAMPLING = 1\n",
    "VERTICAL_CROP_RATIO = 0.05"
   ]
  },
  {
   "cell_type": "markdown",
   "id": "64583cba",
   "metadata": {},
   "source": [
    "### **Data reading and preprocessing**"
   ]
  },
  {
   "cell_type": "code",
   "execution_count": 4,
   "id": "6441702f",
   "metadata": {},
   "outputs": [],
   "source": [
    "DataReader = ZEISSDataReader\n",
    "\n",
    "def get_pixel_nums():\n",
    "    reader = DataReader(file_name=INPUT_PATH)\n",
    "    num_pixels_horizontal = reader.get_geometry().pixel_num_h\n",
    "    num_pixels_vertical = reader.get_geometry().pixel_num_v\n",
    "    return num_pixels_horizontal, num_pixels_vertical\n",
    "\n",
    "num_pixels_horizontal, num_pixels_vertical = get_pixel_nums()\n",
    "\n",
    "slice_dict = {\n",
    "    'angle': (None, None, PROJECTION_SUBSAMPLING),\n",
    "    'vertical': (\n",
    "        int((1 - VERTICAL_CROP_RATIO) * num_pixels_vertical // 2),\n",
    "        int((1 + VERTICAL_CROP_RATIO) * num_pixels_vertical // 2),\n",
    "        DETECTOR_SUBSAMPLING,\n",
    "    ),\n",
    "    'horizontal': (None, None, DETECTOR_SUBSAMPLING),\n",
    "}\n",
    "reader = DataReader(file_name=INPUT_PATH, roi=slice_dict)"
   ]
  },
  {
   "cell_type": "code",
   "execution_count": 5,
   "id": "e44cc0d6",
   "metadata": {},
   "outputs": [
    {
     "data": {
      "text/plain": [
       "{'angle': (None, None, 10),\n",
       " 'vertical': (477, 528, 1),\n",
       " 'horizontal': (None, None, 1)}"
      ]
     },
     "execution_count": 5,
     "metadata": {},
     "output_type": "execute_result"
    }
   ],
   "source": [
    "slice_dict"
   ]
  },
  {
   "cell_type": "code",
   "execution_count": 6,
   "id": "ac4e7ae5",
   "metadata": {},
   "outputs": [],
   "source": [
    "data = reader.read() # may result in error if there is only one slice in the vertical direction"
   ]
  },
  {
   "cell_type": "code",
   "execution_count": 7,
   "id": "cac38129",
   "metadata": {},
   "outputs": [
    {
     "name": "stdout",
     "output_type": "stream",
     "text": [
      "Number of dimensions: 3\n",
      "Shape: (161, 51, 1006)\n",
      "Axis labels: ('angle', 'vertical', 'horizontal')\n",
      "\n"
     ]
    }
   ],
   "source": [
    "print(data)"
   ]
  },
  {
   "cell_type": "code",
   "execution_count": 8,
   "id": "46fb092d",
   "metadata": {},
   "outputs": [],
   "source": [
    "ag = data.geometry\n",
    "horizontal_index = data.get_data_axes_order().index('horizontal')\n",
    "scaled_offset = CENTRE_OF_ROTATION_OFFSET * (data.shape[horizontal_index] / num_pixels_horizontal)\n",
    "ag.set_centre_of_rotation(offset=scaled_offset)\n",
    "\n",
    "ig = ag.get_ImageGeometry()"
   ]
  },
  {
   "cell_type": "markdown",
   "id": "9a0e6e54",
   "metadata": {},
   "source": [
    "We configured the acquisition geometry with a centre of rotation offset that was precalculated by optimizing with the `image_sharpness` method from the CIL `CentreOfRotationCorrector`. Because this step is compute-intensive, the result was stored and hardcoded."
   ]
  },
  {
   "cell_type": "code",
   "execution_count": 9,
   "id": "d5ac2071",
   "metadata": {},
   "outputs": [],
   "source": [
    "# qim3d.viz.slicer(data.array, color_map='grey', color_bar='slices', image_height=6, image_width=6)"
   ]
  },
  {
   "cell_type": "code",
   "execution_count": 10,
   "id": "f65103f5",
   "metadata": {},
   "outputs": [],
   "source": [
    "data = TransmissionAbsorptionConverter()(data)"
   ]
  },
  {
   "cell_type": "markdown",
   "id": "67d696e2",
   "metadata": {},
   "source": [
    "### **FDK reconstruction**"
   ]
  },
  {
   "cell_type": "code",
   "execution_count": 11,
   "id": "ee24d6a8",
   "metadata": {},
   "outputs": [],
   "source": [
    "data.reorder(order='tigre')\n",
    "recon = FDK(data).run(verbose=0)"
   ]
  },
  {
   "cell_type": "code",
   "execution_count": 12,
   "id": "9b0e8fad",
   "metadata": {},
   "outputs": [
    {
     "data": {
      "application/vnd.jupyter.widget-view+json": {
       "model_id": "52b386235ca742798f97f76c54b3a87c",
       "version_major": 2,
       "version_minor": 0
      },
      "text/plain": [
       "interactive(children=(IntSlider(value=25, description='Slice', max=50), Output()), layout=Layout(align_items='…"
      ]
     },
     "execution_count": 12,
     "metadata": {},
     "output_type": "execute_result"
    }
   ],
   "source": [
    "qim3d.viz.slicer(recon.array, color_map='grey', color_bar='slices', image_height=6, image_width=6)"
   ]
  },
  {
   "cell_type": "markdown",
   "id": "d4d1eb72",
   "metadata": {},
   "source": [
    "### **Optimization-based iterative algorithms**"
   ]
  },
  {
   "cell_type": "code",
   "execution_count": 13,
   "id": "e85ebdd1",
   "metadata": {},
   "outputs": [],
   "source": [
    "A = ProjectionOperator(image_geometry=ig, acquisition_geometry=ag)\n",
    "x0 = ig.allocate(0.0)"
   ]
  },
  {
   "cell_type": "markdown",
   "id": "1aaa7391",
   "metadata": {},
   "source": [
    "### **FISTA with nonnegativity constraint**"
   ]
  },
  {
   "cell_type": "code",
   "execution_count": 14,
   "id": "ad13b814",
   "metadata": {},
   "outputs": [],
   "source": [
    "F = LeastSquares(A, data)\n",
    "G = IndicatorBox(lower=0.0, accelerated=False) # nonnegativity"
   ]
  },
  {
   "cell_type": "markdown",
   "id": "ae0492c5",
   "metadata": {},
   "source": [
    "`update_objective_interval` can be set to a higher value for faster iterations but less frequent updates about the objective values."
   ]
  },
  {
   "cell_type": "code",
   "execution_count": 15,
   "id": "8c67e76b",
   "metadata": {},
   "outputs": [],
   "source": [
    "fista_nn = FISTA(f=F, g=G, initial=x0, update_objective_interval=1)"
   ]
  },
  {
   "cell_type": "markdown",
   "id": "972163c3",
   "metadata": {},
   "source": [
    "You can change the `iterations` parameter and rerun the cell below to continue performing iterations if the algorithm has not yet converged."
   ]
  },
  {
   "cell_type": "code",
   "execution_count": 16,
   "id": "63f6b9c0",
   "metadata": {},
   "outputs": [
    {
     "name": "stderr",
     "output_type": "stream",
     "text": [
      "     0/20         ?it/s\n",
      "     1/20      4.51s/it, objective=+3.591e+05\n",
      "     2/20      4.50s/it, objective=+2.397e+05\n",
      "     3/20      4.50s/it, objective=+1.581e+05\n",
      "     4/20      4.50s/it, objective=+1.072e+05\n",
      "     5/20      4.50s/it, objective=+7.746e+04\n",
      "     6/20      4.50s/it, objective=+6.021e+04\n",
      "     7/20      4.50s/it, objective=+4.957e+04\n",
      "     8/20      4.50s/it, objective=+4.233e+04\n",
      "     9/20      4.50s/it, objective=+3.703e+04\n",
      "    10/20      4.50s/it, objective=+3.309e+04\n",
      "    11/20      4.50s/it, objective=+3.017e+04\n",
      "    12/20      4.50s/it, objective=+2.798e+04\n",
      "    13/20      4.51s/it, objective=+2.628e+04\n",
      "    14/20      4.50s/it, objective=+2.493e+04\n",
      "    15/20      4.50s/it, objective=+2.384e+04\n",
      "    16/20      4.50s/it, objective=+2.295e+04\n",
      "    17/20      4.50s/it, objective=+2.222e+04\n",
      "    18/20      4.50s/it, objective=+2.163e+04\n",
      "    19/20      4.50s/it, objective=+2.112e+04\n",
      "    20/20      4.50s/it, objective=+2.070e+04\n",
      "    20/20      4.50s/it\n",
      "\n"
     ]
    },
    {
     "data": {
      "image/png": "[encoded data removed]",
      "text/plain": [
       "<Figure size 640x480 with 1 Axes>"
      ]
     },
     "metadata": {},
     "output_type": "display_data"
    }
   ],
   "source": [
    "fista_nn.run(iterations=20, verbose=1, callbacks=[callbacks.TextProgressCallback()])\n",
    "\n",
    "plt.plot(fista_nn.objective)\n",
    "plt.gca().set_yscale('log')\n",
    "plt.xlabel('Number of iterations')\n",
    "plt.ylabel('Objective value')\n",
    "plt.grid()"
   ]
  },
  {
   "cell_type": "code",
   "execution_count": 17,
   "id": "41aa660d",
   "metadata": {},
   "outputs": [
    {
     "data": {
      "application/vnd.jupyter.widget-view+json": {
       "model_id": "7d1c072c591546ff9525356469256c3f",
       "version_major": 2,
       "version_minor": 0
      },
      "text/plain": [
       "interactive(children=(IntSlider(value=25, description='Slice', max=50), Output()), layout=Layout(align_items='…"
      ]
     },
     "execution_count": 17,
     "metadata": {},
     "output_type": "execute_result"
    }
   ],
   "source": [
    "qim3d.viz.slicer(fista_nn.solution.array, color_map='grey', color_bar='slices', image_height=6, image_width=6)"
   ]
  },
  {
   "cell_type": "markdown",
   "id": "a281b212",
   "metadata": {},
   "source": [
    "### **FISTA with TV regularization**"
   ]
  },
  {
   "cell_type": "markdown",
   "id": "19eed9fe",
   "metadata": {},
   "source": [
    "The parameter `alpha` can be modified to control the regularization strength."
   ]
  },
  {
   "cell_type": "code",
   "execution_count": 18,
   "id": "959776d7",
   "metadata": {},
   "outputs": [],
   "source": [
    "alpha = 0.01\n",
    "F = LeastSquares(A, data)\n",
    "G = FGP_TV(alpha, device='gpu', nonnegativity=True)"
   ]
  },
  {
   "cell_type": "code",
   "execution_count": 19,
   "id": "7fa895fe",
   "metadata": {},
   "outputs": [],
   "source": [
    "fista_tv = FISTA(f=F, g=G, initial=x0, update_objective_interval=1)"
   ]
  },
  {
   "cell_type": "code",
   "execution_count": 20,
   "id": "84eafabd",
   "metadata": {},
   "outputs": [
    {
     "name": "stderr",
     "output_type": "stream",
     "text": [
      "     0/20         ?it/s\n",
      "     1/20      6.35s/it, objective=+3.593e+05\n",
      "     2/20      6.34s/it, objective=+2.412e+05\n",
      "     3/20      6.34s/it, objective=+1.607e+05\n",
      "     4/20      6.34s/it, objective=+1.105e+05\n",
      "     5/20      6.34s/it, objective=+8.135e+04\n",
      "     6/20      6.34s/it, objective=+6.462e+04\n",
      "     7/20      6.34s/it, objective=+5.454e+04\n",
      "     8/20      6.34s/it, objective=+4.787e+04\n",
      "     9/20      6.34s/it, objective=+4.313e+04\n",
      "    10/20      6.34s/it, objective=+3.973e+04\n",
      "    11/20      6.34s/it, objective=+3.733e+04\n",
      "    12/20      6.34s/it, objective=+3.558e+04\n",
      "    13/20      6.34s/it, objective=+3.428e+04\n",
      "    14/20      6.34s/it, objective=+3.331e+04\n",
      "    15/20      6.34s/it, objective=+3.258e+04\n",
      "    16/20      6.34s/it, objective=+3.203e+04\n",
      "    17/20      6.34s/it, objective=+3.162e+04\n",
      "    18/20      6.34s/it, objective=+3.131e+04\n",
      "    19/20      6.34s/it, objective=+3.107e+04\n",
      "    20/20      6.34s/it, objective=+3.088e+04\n",
      "    20/20      6.34s/it\n",
      "\n"
     ]
    },
    {
     "data": {
      "image/png": "[encoded data removed]",
      "text/plain": [
       "<Figure size 640x480 with 1 Axes>"
      ]
     },
     "metadata": {},
     "output_type": "display_data"
    }
   ],
   "source": [
    "fista_tv.run(iterations=20, verbose=1, callbacks=[callbacks.TextProgressCallback()])\n",
    "\n",
    "plt.plot(fista_tv.objective)\n",
    "plt.gca().set_yscale('log')\n",
    "plt.xlabel('Number of iterations')\n",
    "plt.ylabel('Objective value')\n",
    "plt.grid()"
   ]
  },
  {
   "cell_type": "code",
   "execution_count": 21,
   "id": "fe4afc8a",
   "metadata": {},
   "outputs": [
    {
     "data": {
      "application/vnd.jupyter.widget-view+json": {
       "model_id": "923202eb29604a42b0cff24bce05b155",
       "version_major": 2,
       "version_minor": 0
      },
      "text/plain": [
       "interactive(children=(IntSlider(value=25, description='Slice', max=50), Output()), layout=Layout(align_items='…"
      ]
     },
     "execution_count": 21,
     "metadata": {},
     "output_type": "execute_result"
    }
   ],
   "source": [
    "qim3d.viz.slicer(fista_tv.solution.array, color_map='grey', color_bar='slices', image_height=6, image_width=6)"
   ]
  },
  {
   "cell_type": "markdown",
   "id": "1cac8ed5",
   "metadata": {},
   "source": [
    "### **Export the reconstruction**"
   ]
  },
  {
   "cell_type": "markdown",
   "id": "dce64163",
   "metadata": {},
   "source": [
    "Choose which volume to be exported and used for the subsequent image analysis."
   ]
  },
  {
   "cell_type": "code",
   "execution_count": null,
   "id": "881f00b9",
   "metadata": {},
   "outputs": [],
   "source": [
    "recon_to_save = ... #  set this, e.g. fista_nn.solution.array\n",
    "filename = './recon.tif'\n",
    "qim3d.io.save(filename, recon_to_save, replace=True)"
   ]
  }
 ],
 "metadata": {
  "kernelspec": {
   "display_name": "Python 3 (ipykernel)",
   "language": "python",
   "name": "python3"
  },
  "language_info": {
   "codemirror_mode": {
    "name": "ipython",
    "version": 3
   },
   "file_extension": ".py",
   "mimetype": "text/x-python",
   "name": "python",
   "nbconvert_exporter": "python",
   "pygments_lexer": "ipython3",
   "version": "3.11.9"
  }
 },
 "nbformat": 4,
 "nbformat_minor": 5
}
