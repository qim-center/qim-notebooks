{
 "cells": [
  {
   "cell_type": "markdown",
   "id": "2937de7b-1694-43b8-9d5d-494b334294c8",
   "metadata": {},
   "source": [
    "<p style=\"text-align:left;\">\n",
    "  <img src=\"https://docs.qim.dk/qim3d/assets/qim3d-logo.svg\" alt=\"qim3d logo\" style=\"height:92px;\">\n",
    "</p>\n",
    "\n",
    "# Data Exploration\n",
    "\n",
    "Explore and analyze 3D volumetric imaging data in Python using `qim3d`, a open-source library for quantitative volumetric processing and visualization.\n",
    "\n",
    "\n",
    "[📖 Read the full documentation](https://docs.qim.dk/qim3d/)\n"
   ]
  },
  {
   "cell_type": "code",
   "execution_count": null,
   "id": "334395ec-fc4c-4368-a242-25f684a43a4e",
   "metadata": {},
   "outputs": [],
   "source": [
    "import qim3d"
   ]
  },
  {
   "cell_type": "markdown",
   "id": "af06a2c9-3bf0-43fb-816d-c31c4f15f4ff",
   "metadata": {},
   "source": [
    "# Slices grid"
   ]
  },
  {
   "cell_type": "code",
   "execution_count": null,
   "id": "1aa53a55-384a-432e-9a80-31783b45baf6",
   "metadata": {},
   "outputs": [],
   "source": [
    "vol = qim3d.examples.shell_225x128x128"
   ]
  },
  {
   "cell_type": "code",
   "execution_count": null,
   "id": "082ee971-4377-450a-b4a9-6a1ec2917465",
   "metadata": {},
   "outputs": [],
   "source": [
    "qim3d.viz.slices_grid(vol)"
   ]
  },
  {
   "cell_type": "code",
   "execution_count": null,
   "id": "d3d2971a-72e1-4cfa-8e6e-535cdb31454e",
   "metadata": {},
   "outputs": [],
   "source": [
    "qim3d.viz.slices_grid(vol, num_slices=6, max_columns=3, \n",
    "                      color_bar=True, color_bar_style=\"large\",\n",
    "                      image_size=3, color_map=\"viridis\")"
   ]
  },
  {
   "cell_type": "markdown",
   "id": "5edf585b-81fe-46cc-bfe1-bd3bdfe0fcb0",
   "metadata": {},
   "source": [
    "# Interactive slices"
   ]
  },
  {
   "cell_type": "code",
   "execution_count": null,
   "id": "0fbc8f2c-9074-43ea-9bd6-ced041374e06",
   "metadata": {},
   "outputs": [],
   "source": [
    "qim3d.viz.slicer(vol)"
   ]
  },
  {
   "cell_type": "code",
   "execution_count": null,
   "id": "92182793-4d51-4834-9a98-001b1550c30b",
   "metadata": {},
   "outputs": [],
   "source": [
    "qim3d.viz.slicer(vol, slice_axis=1, color_map=\"copper\", display_positions=True, image_width=8, color_bar=\"volume\")"
   ]
  },
  {
   "cell_type": "markdown",
   "id": "496e7b28-97d0-4766-8b19-2e11c50612c4",
   "metadata": {},
   "source": [
    "# Orthogonal slicer"
   ]
  },
  {
   "cell_type": "code",
   "execution_count": null,
   "id": "ff9924d7-03ab-4638-a4f2-32198eada62a",
   "metadata": {},
   "outputs": [],
   "source": [
    "vol = qim3d.examples.bone_128x128x128"
   ]
  },
  {
   "cell_type": "code",
   "execution_count": null,
   "id": "c986cc57-2b9e-42a7-9837-23175207ede3",
   "metadata": {},
   "outputs": [],
   "source": [
    "qim3d.viz.slicer_orthogonal(vol)"
   ]
  },
  {
   "cell_type": "markdown",
   "id": "c0816c82-69ab-4a59-b851-67e85d87cc64",
   "metadata": {},
   "source": [
    "# Planes"
   ]
  },
  {
   "cell_type": "code",
   "execution_count": null,
   "id": "658fbd4e-b3cc-40f0-aea6-caa5b10efdaf",
   "metadata": {},
   "outputs": [],
   "source": [
    "qim3d.viz.planes(vol)"
   ]
  },
  {
   "cell_type": "markdown",
   "id": "2872b534-b0dd-4e87-8b23-e2f507e7bb90",
   "metadata": {},
   "source": [
    "# Volumetric"
   ]
  },
  {
   "cell_type": "code",
   "execution_count": null,
   "id": "96c892c7-485f-4e52-b4ae-5ff86c3d096e",
   "metadata": {},
   "outputs": [],
   "source": [
    "qim3d.viz.volumetric(vol)"
   ]
  },
  {
   "cell_type": "code",
   "execution_count": null,
   "id": "61da9032-3b45-4b75-8e24-11d210d4977a",
   "metadata": {},
   "outputs": [],
   "source": [
    "qim3d.viz.volumetric(vol, grid_visible=True, color_map=\"jet\")"
   ]
  },
  {
   "cell_type": "markdown",
   "id": "12e014b0-80e7-41f8-b275-5dada8272786",
   "metadata": {},
   "source": [
    "# Export animation"
   ]
  },
  {
   "cell_type": "code",
   "execution_count": null,
   "id": "5b12d68e-70c9-4b58-ac97-63aa28055b56",
   "metadata": {},
   "outputs": [],
   "source": [
    "qim3d.viz.export_rotation(\"vol.gif\", vol, show=True)"
   ]
  },
  {
   "cell_type": "code",
   "execution_count": null,
   "id": "541e6908-f3dd-4eae-9c5a-c081e60a3311",
   "metadata": {},
   "outputs": [],
   "source": [
    "qim3d.viz.export_rotation(\"vol.gif\", vol, num_frames=4, fps=1, degrees=360, camera_height=0,\n",
    "                          image_size=(512,512), show=True)"
   ]
  },
  {
   "cell_type": "markdown",
   "id": "373d41f1-bbe6-48ee-b4eb-ede68eaab9de",
   "metadata": {},
   "source": [
    "# Isosurface"
   ]
  },
  {
   "cell_type": "code",
   "execution_count": null,
   "id": "069af86a-8836-4c7e-acce-fe92aff3ddcb",
   "metadata": {},
   "outputs": [],
   "source": [
    "vol = qim3d.examples.cement_128x128x128"
   ]
  },
  {
   "cell_type": "code",
   "execution_count": null,
   "id": "e817d981-7305-4154-a2a3-0a3e7f03fd1b",
   "metadata": {},
   "outputs": [],
   "source": [
    "qim3d.viz.iso_surface(vol)"
   ]
  },
  {
   "cell_type": "markdown",
   "id": "57ae980b-01d7-4c21-a453-ee744979e5e6",
   "metadata": {},
   "source": [
    "# Histogram"
   ]
  },
  {
   "cell_type": "code",
   "execution_count": null,
   "id": "ecca5b4f-8905-4559-b61f-c6f5ec10ee10",
   "metadata": {},
   "outputs": [],
   "source": [
    "hist = qim3d.viz.histogram(vol)"
   ]
  },
  {
   "cell_type": "code",
   "execution_count": null,
   "id": "57a2e9d4-7a53-446e-941a-d4b6b2634fcf",
   "metadata": {},
   "outputs": [],
   "source": [
    "hist = qim3d.viz.histogram(vol, bins=32, log_scale=True, vertical_line=50)"
   ]
  },
  {
   "cell_type": "code",
   "execution_count": null,
   "id": "ad91e8e3-d68e-4b39-a281-bfbb8b045d24",
   "metadata": {},
   "outputs": [],
   "source": [
    "hist = qim3d.viz.histogram(vol,coarseness=4)"
   ]
  },
  {
   "cell_type": "markdown",
   "id": "def126c5-544a-45fe-be15-6deac200dd16",
   "metadata": {},
   "source": [
    "# Threshold explorer"
   ]
  },
  {
   "cell_type": "code",
   "execution_count": null,
   "id": "6dfcf34f-3260-40db-94e8-a89d63284849",
   "metadata": {},
   "outputs": [],
   "source": [
    "qim3d.viz.threshold(vol)"
   ]
  },
  {
   "cell_type": "markdown",
   "id": "9ce1108a-1a19-41e4-b9a2-0529b2fc5204",
   "metadata": {},
   "source": [
    "# Line profile"
   ]
  },
  {
   "cell_type": "code",
   "execution_count": null,
   "id": "6f63fdcf-93ac-4174-8c8e-b3394f5bbc76",
   "metadata": {},
   "outputs": [],
   "source": [
    "qim3d.viz.line_profile(vol)"
   ]
  }
 ],
 "metadata": {
  "kernelspec": {
   "display_name": "Python 3 (ipykernel)",
   "language": "python",
   "name": "python3"
  },
  "language_info": {
   "codemirror_mode": {
    "name": "ipython",
    "version": 3
   },
   "file_extension": ".py",
   "mimetype": "text/x-python",
   "name": "python",
   "nbconvert_exporter": "python",
   "pygments_lexer": "ipython3",
   "version": "3.11.5"
  },
  "widgets": {
   "application/vnd.jupyter.widget-state+json": {
    "state": {},
    "version_major": 2,
    "version_minor": 0
   }
  }
 },
 "nbformat": 4,
 "nbformat_minor": 5
}
